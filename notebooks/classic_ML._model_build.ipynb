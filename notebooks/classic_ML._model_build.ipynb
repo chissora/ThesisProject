{
 "cells": [
  {
   "cell_type": "markdown",
   "id": "0485225a-5016-46db-9ab8-a486e347a2fd",
   "metadata": {
    "tags": []
   },
   "source": [
    "# Importy "
   ]
  },
  {
   "cell_type": "code",
   "execution_count": 1,
   "id": "620c9fc2-afc2-43e7-8bfd-e478fa2c278c",
   "metadata": {},
   "outputs": [
    {
     "name": "stderr",
     "output_type": "stream",
     "text": [
      "/home/studio-lab-user/.conda/envs/plantenv/lib/python3.11/site-packages/tqdm/auto.py:21: TqdmWarning: IProgress not found. Please update jupyter and ipywidgets. See https://ipywidgets.readthedocs.io/en/stable/user_install.html\n",
      "  from .autonotebook import tqdm as notebook_tqdm\n"
     ]
    }
   ],
   "source": [
    "import os\n",
    "import cv2\n",
    "import numpy as np\n",
    "from tqdm import tqdm\n",
    "from skimage.feature import graycomatrix, graycoprops\n",
    "import wandb\n",
    "import optuna\n",
    "from sklearn.model_selection import cross_val_score, train_test_split\n",
    "from sklearn.pipeline import Pipeline\n",
    "from sklearn.preprocessing import StandardScaler, LabelEncoder\n",
    "from sklearn.svm import SVC\n",
    "from joblib import Parallel, delayed\n",
    "import warnings\n",
    "import pickle\n",
    "from IPython.display import display, HTML\n",
    "from optuna.integration.wandb import WeightsAndBiasesCallback"
   ]
  },
  {
   "cell_type": "markdown",
   "id": "f782e535-0197-403d-b59d-b7bf33c997a5",
   "metadata": {},
   "source": [
    "# Ścieżka do danych"
   ]
  },
  {
   "cell_type": "code",
   "execution_count": 2,
   "id": "1da5e075-3c49-4dd0-bf67-d7ce2cb3bc34",
   "metadata": {
    "tags": []
   },
   "outputs": [],
   "source": [
    "TRAIN_DIR = \"/home/studio-lab-user/sagemaker-studiolab-notebooks/ThesisProject/data/processed/plant_village_balanced/train\"\n",
    "FEATURES_CACHE = \"cached_features.pkl\""
   ]
  },
  {
   "cell_type": "markdown",
   "id": "0cb9f0fd-203c-431c-af37-0db608462435",
   "metadata": {},
   "source": [
    "# Funkcja do ekstrakcji cech z obrazu"
   ]
  },
  {
   "cell_type": "code",
   "execution_count": 4,
   "id": "316fdaa8-2978-45e8-a139-c666d0afa0a6",
   "metadata": {
    "tags": []
   },
   "outputs": [],
   "source": [
    "def extract_features(img_path):\n",
    "    features = []\n",
    "    img = cv2.imread(img_path)\n",
    "    gray = cv2.cvtColor(img, cv2.COLOR_BGR2GRAY)\n",
    "\n",
    "    means = cv2.mean(img)[:3]\n",
    "    features.extend(means)\n",
    "\n",
    "    glcm = graycomatrix(gray, distances=[5], angles=[0], levels=256, symmetric=True, normed=True)\n",
    "    for prop in ['contrast', 'correlation', 'energy', 'homogeneity']:\n",
    "        features.append(graycoprops(glcm, prop)[0][0])\n",
    "\n",
    "    _, thresh = cv2.threshold(gray, 0, 255, cv2.THRESH_BINARY + cv2.THRESH_OTSU)\n",
    "    contours, _ = cv2.findContours(thresh, cv2.RETR_EXTERNAL, cv2.CHAIN_APPROX_SIMPLE)\n",
    "    features.append(len(contours))\n",
    "    return features\n"
   ]
  },
  {
   "cell_type": "markdown",
   "id": "771b7b10-321f-47fb-8fb4-6001b26dbb89",
   "metadata": {},
   "source": [
    "# Wczytywanie danych i cache"
   ]
  },
  {
   "cell_type": "code",
   "execution_count": 5,
   "id": "9ae4fbd8-e1b5-40a4-973c-4143e5dcc201",
   "metadata": {
    "tags": []
   },
   "outputs": [
    {
     "name": "stderr",
     "output_type": "stream",
     "text": [
      "Loading data: 100%|██████████| 39/39 [08:03<00:00, 12.39s/it]\n"
     ]
    },
    {
     "name": "stdout",
     "output_type": "stream",
     "text": [
      "Liczba przykładów: 62400\n"
     ]
    }
   ],
   "source": [
    "def load_or_extract_features():\n",
    "    if os.path.exists(FEATURES_CACHE):\n",
    "        with open(FEATURES_CACHE, \"rb\") as f:\n",
    "            return pickle.load(f)\n",
    "    else:\n",
    "        X, y = [], []\n",
    "        class_names = sorted(os.listdir(TRAIN_DIR))\n",
    "        for class_name in tqdm(class_names, desc=\"Loading data\"):\n",
    "            class_path = os.path.join(TRAIN_DIR, class_name)\n",
    "            if not os.path.isdir(class_path): continue\n",
    "            for fname in os.listdir(class_path):\n",
    "                if fname.lower().endswith((\".jpg\", \".jpeg\", \".png\")):\n",
    "                    fpath = os.path.join(class_path, fname)\n",
    "                    feats = extract_features(fpath)\n",
    "                    X.append(feats)\n",
    "                    y.append(class_name)\n",
    "        with open(FEATURES_CACHE, \"wb\") as f:\n",
    "            pickle.dump((X, y), f)\n",
    "        return X, y\n",
    "\n",
    "X, y = load_or_extract_features()\n",
    "print(f\"Liczba przykładów: {len(X)}\")"
   ]
  },
  {
   "cell_type": "markdown",
   "id": "8f6921f7-78a3-4c84-981c-35a0ed21a1e3",
   "metadata": {},
   "source": [
    "# Przygotowanie danych"
   ]
  },
  {
   "cell_type": "code",
   "execution_count": 6,
   "id": "0ac86e5f-bda5-4eab-af2a-7dea1d520c43",
   "metadata": {},
   "outputs": [],
   "source": [
    "X = np.array(X)\n",
    "y = LabelEncoder().fit_transform(y)\n",
    "X_train, X_valid, y_train, y_valid = train_test_split(X, y, test_size=0.2, random_state=42)"
   ]
  },
  {
   "cell_type": "markdown",
   "id": "19a5cb51-a644-45ee-8b3e-b6824d03bbb4",
   "metadata": {},
   "source": [
    "# Konfiguracja WandB + Optuna"
   ]
  },
  {
   "cell_type": "code",
   "execution_count": 7,
   "id": "7b8b3a2a-044b-405b-b401-060bbbb935a0",
   "metadata": {},
   "outputs": [
    {
     "name": "stderr",
     "output_type": "stream",
     "text": [
      "[I 2025-04-01 18:44:58,589] A new study created in RDB with name: svm_hyperopt_study\n",
      "/tmp/ipykernel_416/1137350553.py:15: ExperimentalWarning: WeightsAndBiasesCallback is experimental (supported from v2.9.0). The interface can change in the future.\n",
      "  wandbc = WeightsAndBiasesCallback(wandb_kwargs=wandb_kwargs, metric_name=\"accuracy\", as_multirun=True)\n"
     ]
    }
   ],
   "source": [
    "study_name = \"svm_hyperopt_study\"\n",
    "storage_url = f\"sqlite:///{study_name}.db\"\n",
    "study = optuna.create_study(\n",
    "    study_name=study_name,\n",
    "    direction=\"maximize\",\n",
    "    storage=storage_url,\n",
    "    load_if_exists=True\n",
    ")\n",
    "\n",
    "wandb_kwargs = {\n",
    "    \"project\": \"svm-feature-optuna\",\n",
    "    \"group\": \"svm-optuna-research\",\n",
    "    \"reinit\": True\n",
    "}\n",
    "wandbc = WeightsAndBiasesCallback(wandb_kwargs=wandb_kwargs, metric_name=\"accuracy\", as_multirun=True)"
   ]
  },
  {
   "cell_type": "markdown",
   "id": "3817ccb9-4cf1-4699-8869-dc369d752e59",
   "metadata": {
    "tags": []
   },
   "source": [
    "# Funkcja celu z @track_in_wandb\n"
   ]
  },
  {
   "cell_type": "code",
   "execution_count": 8,
   "id": "bf491dac-cff4-4f14-9ecd-3b8cd3b153e9",
   "metadata": {},
   "outputs": [
    {
     "name": "stderr",
     "output_type": "stream",
     "text": [
      "[I 2025-04-01 18:44:58,655] Using an existing study with name 'svm_hyperopt_study' instead of creating a new one.\n",
      "/tmp/ipykernel_416/1137350553.py:15: ExperimentalWarning: WeightsAndBiasesCallback is experimental (supported from v2.9.0). The interface can change in the future.\n",
      "  wandbc = WeightsAndBiasesCallback(wandb_kwargs=wandb_kwargs, metric_name=\"accuracy\", as_multirun=True)\n"
     ]
    }
   ],
   "source": [
    "study_name = \"svm_hyperopt_study\"\n",
    "storage_url = f\"sqlite:///{study_name}.db\"\n",
    "study = optuna.create_study(\n",
    "    study_name=study_name,\n",
    "    direction=\"maximize\",\n",
    "    storage=storage_url,\n",
    "    load_if_exists=True\n",
    ")\n",
    "\n",
    "wandb_kwargs = {\n",
    "    \"project\": \"svm-feature-optuna\",\n",
    "    \"group\": \"svm-optuna-research\",\n",
    "    \"reinit\": True\n",
    "}\n",
    "wandbc = WeightsAndBiasesCallback(wandb_kwargs=wandb_kwargs, metric_name=\"accuracy\", as_multirun=True)"
   ]
  },
  {
   "cell_type": "code",
   "execution_count": 9,
   "id": "344d4336-5a5a-4876-9e11-a775c08baa62",
   "metadata": {},
   "outputs": [
    {
     "name": "stderr",
     "output_type": "stream",
     "text": [
      "/tmp/ipykernel_416/3910251723.py:1: ExperimentalWarning: track_in_wandb is experimental (supported from v3.0.0). The interface can change in the future.\n",
      "  @wandbc.track_in_wandb()\n"
     ]
    }
   ],
   "source": [
    "@wandbc.track_in_wandb()\n",
    "def objective(trial):\n",
    "    C = trial.suggest_float(\"C\", 1e-3, 1e3, log=True)\n",
    "    kernel = trial.suggest_categorical(\"kernel\", [\"linear\", \"rbf\"])\n",
    "    gamma = trial.suggest_float(\"gamma\", 1e-5, 1e-1, log=True) if kernel == \"rbf\" else 'scale'\n",
    "\n",
    "    model = Pipeline([\n",
    "        (\"scaler\", StandardScaler()),\n",
    "        (\"svm\", SVC(C=C, gamma=gamma, kernel=kernel, probability=True, max_iter=10000))\n",
    "    ])\n",
    "\n",
    "    score = cross_val_score(model, X_train, y_train, cv=3, scoring=\"accuracy\", n_jobs=-1).mean()\n",
    "    return score"
   ]
  },
  {
   "cell_type": "markdown",
   "id": "07ede619-1d0f-45fb-8079-ac0b5cc4f87a",
   "metadata": {},
   "source": [
    "# Uruchomienie optymalizacji z callbackiem (z checkpointami)"
   ]
  },
  {
   "cell_type": "code",
   "execution_count": null,
   "id": "b7dd43e9-d096-4fe9-bc85-561fbbb5727a",
   "metadata": {},
   "outputs": [
    {
     "name": "stderr",
     "output_type": "stream",
     "text": [
      "\u001b[34m\u001b[1mwandb\u001b[0m: Using wandb-core as the SDK backend.  Please refer to https://wandb.me/wandb-core for more information.\n",
      "\u001b[34m\u001b[1mwandb\u001b[0m: Currently logged in as: \u001b[33mmidonik10\u001b[0m (\u001b[33mmidonik10-wsb-merito\u001b[0m) to \u001b[32mhttps://api.wandb.ai\u001b[0m. Use \u001b[1m`wandb login --relogin`\u001b[0m to force relogin\n"
     ]
    },
    {
     "data": {
      "text/html": [
       "Tracking run with wandb version 0.19.8"
      ],
      "text/plain": [
       "<IPython.core.display.HTML object>"
      ]
     },
     "metadata": {},
     "output_type": "display_data"
    },
    {
     "data": {
      "text/html": [
       "Run data is saved locally in <code>/home/studio-lab-user/sagemaker-studiolab-notebooks/ThesisProject/notebooks/wandb/run-20250401_184500-fps5gynq</code>"
      ],
      "text/plain": [
       "<IPython.core.display.HTML object>"
      ]
     },
     "metadata": {},
     "output_type": "display_data"
    },
    {
     "data": {
      "text/html": [
       "Syncing run <strong><a href='https://wandb.ai/midonik10-wsb-merito/svm-feature-optuna/runs/fps5gynq' target=\"_blank\">devoted-forest-2</a></strong> to <a href='https://wandb.ai/midonik10-wsb-merito/svm-feature-optuna' target=\"_blank\">Weights & Biases</a> (<a href='https://wandb.me/developer-guide' target=\"_blank\">docs</a>)<br>"
      ],
      "text/plain": [
       "<IPython.core.display.HTML object>"
      ]
     },
     "metadata": {},
     "output_type": "display_data"
    },
    {
     "data": {
      "text/html": [
       " View project at <a href='https://wandb.ai/midonik10-wsb-merito/svm-feature-optuna' target=\"_blank\">https://wandb.ai/midonik10-wsb-merito/svm-feature-optuna</a>"
      ],
      "text/plain": [
       "<IPython.core.display.HTML object>"
      ]
     },
     "metadata": {},
     "output_type": "display_data"
    },
    {
     "data": {
      "text/html": [
       " View run at <a href='https://wandb.ai/midonik10-wsb-merito/svm-feature-optuna/runs/fps5gynq' target=\"_blank\">https://wandb.ai/midonik10-wsb-merito/svm-feature-optuna/runs/fps5gynq</a>"
      ],
      "text/plain": [
       "<IPython.core.display.HTML object>"
      ]
     },
     "metadata": {},
     "output_type": "display_data"
    },
    {
     "name": "stderr",
     "output_type": "stream",
     "text": [
      "/home/studio-lab-user/.conda/envs/plantenv/lib/python3.11/site-packages/sklearn/svm/_base.py:305: ConvergenceWarning: Solver terminated early (max_iter=10000).  Consider pre-processing your data with StandardScaler or MinMaxScaler.\n",
      "  warnings.warn(\n",
      "/home/studio-lab-user/.conda/envs/plantenv/lib/python3.11/site-packages/sklearn/svm/_base.py:305: ConvergenceWarning: Solver terminated early (max_iter=10000).  Consider pre-processing your data with StandardScaler or MinMaxScaler.\n",
      "  warnings.warn(\n",
      "/home/studio-lab-user/.conda/envs/plantenv/lib/python3.11/site-packages/sklearn/svm/_base.py:305: ConvergenceWarning: Solver terminated early (max_iter=10000).  Consider pre-processing your data with StandardScaler or MinMaxScaler.\n",
      "  warnings.warn(\n",
      "[I 2025-04-01 18:49:34,790] Trial 0 finished with value: 0.4865384615384616 and parameters: {'C': 7.450164154162476, 'kernel': 'linear'}. Best is trial 0 with value: 0.4865384615384616.\n"
     ]
    },
    {
     "data": {
      "text/html": [],
      "text/plain": [
       "<IPython.core.display.HTML object>"
      ]
     },
     "metadata": {},
     "output_type": "display_data"
    },
    {
     "data": {
      "text/html": [
       "<br>    <style><br>        .wandb-row {<br>            display: flex;<br>            flex-direction: row;<br>            flex-wrap: wrap;<br>            justify-content: flex-start;<br>            width: 100%;<br>        }<br>        .wandb-col {<br>            display: flex;<br>            flex-direction: column;<br>            flex-basis: 100%;<br>            flex: 1;<br>            padding: 10px;<br>        }<br>    </style><br><div class=\"wandb-row\"><div class=\"wandb-col\"><h3>Run history:</h3><br/><table class=\"wandb\"><tr><td>C</td><td>▁</td></tr><tr><td>accuracy</td><td>▁</td></tr><tr><td>trial_number</td><td>▁</td></tr></table><br/></div><div class=\"wandb-col\"><h3>Run summary:</h3><br/><table class=\"wandb\"><tr><td>C</td><td>7.45016</td></tr><tr><td>accuracy</td><td>0.48654</td></tr><tr><td>kernel</td><td>linear</td></tr><tr><td>trial_number</td><td>0</td></tr></table><br/></div></div>"
      ],
      "text/plain": [
       "<IPython.core.display.HTML object>"
      ]
     },
     "metadata": {},
     "output_type": "display_data"
    },
    {
     "data": {
      "text/html": [
       " View run <strong style=\"color:#cdcd00\">trial/0/devoted-forest-2</strong> at: <a href='https://wandb.ai/midonik10-wsb-merito/svm-feature-optuna/runs/fps5gynq' target=\"_blank\">https://wandb.ai/midonik10-wsb-merito/svm-feature-optuna/runs/fps5gynq</a><br> View project at: <a href='https://wandb.ai/midonik10-wsb-merito/svm-feature-optuna' target=\"_blank\">https://wandb.ai/midonik10-wsb-merito/svm-feature-optuna</a><br>Synced 5 W&B file(s), 0 media file(s), 0 artifact file(s) and 0 other file(s)"
      ],
      "text/plain": [
       "<IPython.core.display.HTML object>"
      ]
     },
     "metadata": {},
     "output_type": "display_data"
    },
    {
     "data": {
      "text/html": [
       "Find logs at: <code>./wandb/run-20250401_184500-fps5gynq/logs</code>"
      ],
      "text/plain": [
       "<IPython.core.display.HTML object>"
      ]
     },
     "metadata": {},
     "output_type": "display_data"
    },
    {
     "data": {
      "text/html": [
       "Tracking run with wandb version 0.19.8"
      ],
      "text/plain": [
       "<IPython.core.display.HTML object>"
      ]
     },
     "metadata": {},
     "output_type": "display_data"
    },
    {
     "data": {
      "text/html": [
       "Run data is saved locally in <code>/home/studio-lab-user/sagemaker-studiolab-notebooks/ThesisProject/notebooks/wandb/run-20250401_184935-qtx0cfxw</code>"
      ],
      "text/plain": [
       "<IPython.core.display.HTML object>"
      ]
     },
     "metadata": {},
     "output_type": "display_data"
    },
    {
     "data": {
      "text/html": [
       "Syncing run <strong><a href='https://wandb.ai/midonik10-wsb-merito/svm-feature-optuna/runs/qtx0cfxw' target=\"_blank\">ruby-surf-3</a></strong> to <a href='https://wandb.ai/midonik10-wsb-merito/svm-feature-optuna' target=\"_blank\">Weights & Biases</a> (<a href='https://wandb.me/developer-guide' target=\"_blank\">docs</a>)<br>"
      ],
      "text/plain": [
       "<IPython.core.display.HTML object>"
      ]
     },
     "metadata": {},
     "output_type": "display_data"
    },
    {
     "data": {
      "text/html": [
       " View project at <a href='https://wandb.ai/midonik10-wsb-merito/svm-feature-optuna' target=\"_blank\">https://wandb.ai/midonik10-wsb-merito/svm-feature-optuna</a>"
      ],
      "text/plain": [
       "<IPython.core.display.HTML object>"
      ]
     },
     "metadata": {},
     "output_type": "display_data"
    },
    {
     "data": {
      "text/html": [
       " View run at <a href='https://wandb.ai/midonik10-wsb-merito/svm-feature-optuna/runs/qtx0cfxw' target=\"_blank\">https://wandb.ai/midonik10-wsb-merito/svm-feature-optuna/runs/qtx0cfxw</a>"
      ],
      "text/plain": [
       "<IPython.core.display.HTML object>"
      ]
     },
     "metadata": {},
     "output_type": "display_data"
    },
    {
     "name": "stderr",
     "output_type": "stream",
     "text": [
      "[I 2025-04-01 19:01:32,279] Trial 1 finished with value: 0.026322115384615385 and parameters: {'C': 0.043896557303286586, 'kernel': 'rbf', 'gamma': 1.4266243962487302e-05}. Best is trial 0 with value: 0.4865384615384616.\n"
     ]
    },
    {
     "data": {
      "text/html": [],
      "text/plain": [
       "<IPython.core.display.HTML object>"
      ]
     },
     "metadata": {},
     "output_type": "display_data"
    },
    {
     "data": {
      "text/html": [
       "<br>    <style><br>        .wandb-row {<br>            display: flex;<br>            flex-direction: row;<br>            flex-wrap: wrap;<br>            justify-content: flex-start;<br>            width: 100%;<br>        }<br>        .wandb-col {<br>            display: flex;<br>            flex-direction: column;<br>            flex-basis: 100%;<br>            flex: 1;<br>            padding: 10px;<br>        }<br>    </style><br><div class=\"wandb-row\"><div class=\"wandb-col\"><h3>Run history:</h3><br/><table class=\"wandb\"><tr><td>C</td><td>▁</td></tr><tr><td>accuracy</td><td>▁</td></tr><tr><td>gamma</td><td>▁</td></tr><tr><td>trial_number</td><td>▁</td></tr></table><br/></div><div class=\"wandb-col\"><h3>Run summary:</h3><br/><table class=\"wandb\"><tr><td>C</td><td>0.0439</td></tr><tr><td>accuracy</td><td>0.02632</td></tr><tr><td>gamma</td><td>1e-05</td></tr><tr><td>kernel</td><td>rbf</td></tr><tr><td>trial_number</td><td>1</td></tr></table><br/></div></div>"
      ],
      "text/plain": [
       "<IPython.core.display.HTML object>"
      ]
     },
     "metadata": {},
     "output_type": "display_data"
    },
    {
     "data": {
      "text/html": [
       " View run <strong style=\"color:#cdcd00\">trial/1/ruby-surf-3</strong> at: <a href='https://wandb.ai/midonik10-wsb-merito/svm-feature-optuna/runs/qtx0cfxw' target=\"_blank\">https://wandb.ai/midonik10-wsb-merito/svm-feature-optuna/runs/qtx0cfxw</a><br> View project at: <a href='https://wandb.ai/midonik10-wsb-merito/svm-feature-optuna' target=\"_blank\">https://wandb.ai/midonik10-wsb-merito/svm-feature-optuna</a><br>Synced 5 W&B file(s), 0 media file(s), 0 artifact file(s) and 0 other file(s)"
      ],
      "text/plain": [
       "<IPython.core.display.HTML object>"
      ]
     },
     "metadata": {},
     "output_type": "display_data"
    },
    {
     "data": {
      "text/html": [
       "Find logs at: <code>./wandb/run-20250401_184935-qtx0cfxw/logs</code>"
      ],
      "text/plain": [
       "<IPython.core.display.HTML object>"
      ]
     },
     "metadata": {},
     "output_type": "display_data"
    },
    {
     "data": {
      "text/html": [
       "Tracking run with wandb version 0.19.8"
      ],
      "text/plain": [
       "<IPython.core.display.HTML object>"
      ]
     },
     "metadata": {},
     "output_type": "display_data"
    },
    {
     "data": {
      "text/html": [
       "Run data is saved locally in <code>/home/studio-lab-user/sagemaker-studiolab-notebooks/ThesisProject/notebooks/wandb/run-20250401_190132-wbgye0f8</code>"
      ],
      "text/plain": [
       "<IPython.core.display.HTML object>"
      ]
     },
     "metadata": {},
     "output_type": "display_data"
    },
    {
     "data": {
      "text/html": [
       "Syncing run <strong><a href='https://wandb.ai/midonik10-wsb-merito/svm-feature-optuna/runs/wbgye0f8' target=\"_blank\">fast-serenity-4</a></strong> to <a href='https://wandb.ai/midonik10-wsb-merito/svm-feature-optuna' target=\"_blank\">Weights & Biases</a> (<a href='https://wandb.me/developer-guide' target=\"_blank\">docs</a>)<br>"
      ],
      "text/plain": [
       "<IPython.core.display.HTML object>"
      ]
     },
     "metadata": {},
     "output_type": "display_data"
    },
    {
     "data": {
      "text/html": [
       " View project at <a href='https://wandb.ai/midonik10-wsb-merito/svm-feature-optuna' target=\"_blank\">https://wandb.ai/midonik10-wsb-merito/svm-feature-optuna</a>"
      ],
      "text/plain": [
       "<IPython.core.display.HTML object>"
      ]
     },
     "metadata": {},
     "output_type": "display_data"
    },
    {
     "data": {
      "text/html": [
       " View run at <a href='https://wandb.ai/midonik10-wsb-merito/svm-feature-optuna/runs/wbgye0f8' target=\"_blank\">https://wandb.ai/midonik10-wsb-merito/svm-feature-optuna/runs/wbgye0f8</a>"
      ],
      "text/plain": [
       "<IPython.core.display.HTML object>"
      ]
     },
     "metadata": {},
     "output_type": "display_data"
    },
    {
     "name": "stderr",
     "output_type": "stream",
     "text": [
      "[I 2025-04-01 19:11:54,361] Trial 2 finished with value: 0.1892628205128205 and parameters: {'C': 1.3414217364247307, 'kernel': 'rbf', 'gamma': 0.00011670456641875676}. Best is trial 0 with value: 0.4865384615384616.\n"
     ]
    },
    {
     "data": {
      "text/html": [],
      "text/plain": [
       "<IPython.core.display.HTML object>"
      ]
     },
     "metadata": {},
     "output_type": "display_data"
    },
    {
     "data": {
      "text/html": [
       "<br>    <style><br>        .wandb-row {<br>            display: flex;<br>            flex-direction: row;<br>            flex-wrap: wrap;<br>            justify-content: flex-start;<br>            width: 100%;<br>        }<br>        .wandb-col {<br>            display: flex;<br>            flex-direction: column;<br>            flex-basis: 100%;<br>            flex: 1;<br>            padding: 10px;<br>        }<br>    </style><br><div class=\"wandb-row\"><div class=\"wandb-col\"><h3>Run history:</h3><br/><table class=\"wandb\"><tr><td>C</td><td>▁</td></tr><tr><td>accuracy</td><td>▁</td></tr><tr><td>gamma</td><td>▁</td></tr><tr><td>trial_number</td><td>▁</td></tr></table><br/></div><div class=\"wandb-col\"><h3>Run summary:</h3><br/><table class=\"wandb\"><tr><td>C</td><td>1.34142</td></tr><tr><td>accuracy</td><td>0.18926</td></tr><tr><td>gamma</td><td>0.00012</td></tr><tr><td>kernel</td><td>rbf</td></tr><tr><td>trial_number</td><td>2</td></tr></table><br/></div></div>"
      ],
      "text/plain": [
       "<IPython.core.display.HTML object>"
      ]
     },
     "metadata": {},
     "output_type": "display_data"
    },
    {
     "data": {
      "text/html": [
       " View run <strong style=\"color:#cdcd00\">trial/2/fast-serenity-4</strong> at: <a href='https://wandb.ai/midonik10-wsb-merito/svm-feature-optuna/runs/wbgye0f8' target=\"_blank\">https://wandb.ai/midonik10-wsb-merito/svm-feature-optuna/runs/wbgye0f8</a><br> View project at: <a href='https://wandb.ai/midonik10-wsb-merito/svm-feature-optuna' target=\"_blank\">https://wandb.ai/midonik10-wsb-merito/svm-feature-optuna</a><br>Synced 5 W&B file(s), 0 media file(s), 0 artifact file(s) and 0 other file(s)"
      ],
      "text/plain": [
       "<IPython.core.display.HTML object>"
      ]
     },
     "metadata": {},
     "output_type": "display_data"
    },
    {
     "data": {
      "text/html": [
       "Find logs at: <code>./wandb/run-20250401_190132-wbgye0f8/logs</code>"
      ],
      "text/plain": [
       "<IPython.core.display.HTML object>"
      ]
     },
     "metadata": {},
     "output_type": "display_data"
    },
    {
     "data": {
      "text/html": [
       "Tracking run with wandb version 0.19.8"
      ],
      "text/plain": [
       "<IPython.core.display.HTML object>"
      ]
     },
     "metadata": {},
     "output_type": "display_data"
    },
    {
     "data": {
      "text/html": [
       "Run data is saved locally in <code>/home/studio-lab-user/sagemaker-studiolab-notebooks/ThesisProject/notebooks/wandb/run-20250401_191155-gbvtz62t</code>"
      ],
      "text/plain": [
       "<IPython.core.display.HTML object>"
      ]
     },
     "metadata": {},
     "output_type": "display_data"
    },
    {
     "data": {
      "text/html": [
       "Syncing run <strong><a href='https://wandb.ai/midonik10-wsb-merito/svm-feature-optuna/runs/gbvtz62t' target=\"_blank\">serene-music-5</a></strong> to <a href='https://wandb.ai/midonik10-wsb-merito/svm-feature-optuna' target=\"_blank\">Weights & Biases</a> (<a href='https://wandb.me/developer-guide' target=\"_blank\">docs</a>)<br>"
      ],
      "text/plain": [
       "<IPython.core.display.HTML object>"
      ]
     },
     "metadata": {},
     "output_type": "display_data"
    },
    {
     "data": {
      "text/html": [
       " View project at <a href='https://wandb.ai/midonik10-wsb-merito/svm-feature-optuna' target=\"_blank\">https://wandb.ai/midonik10-wsb-merito/svm-feature-optuna</a>"
      ],
      "text/plain": [
       "<IPython.core.display.HTML object>"
      ]
     },
     "metadata": {},
     "output_type": "display_data"
    },
    {
     "data": {
      "text/html": [
       " View run at <a href='https://wandb.ai/midonik10-wsb-merito/svm-feature-optuna/runs/gbvtz62t' target=\"_blank\">https://wandb.ai/midonik10-wsb-merito/svm-feature-optuna/runs/gbvtz62t</a>"
      ],
      "text/plain": [
       "<IPython.core.display.HTML object>"
      ]
     },
     "metadata": {},
     "output_type": "display_data"
    },
    {
     "name": "stderr",
     "output_type": "stream",
     "text": [
      "[I 2025-04-01 19:16:53,061] Trial 3 finished with value: 0.32271634615384615 and parameters: {'C': 0.0014563227460513155, 'kernel': 'linear'}. Best is trial 0 with value: 0.4865384615384616.\n"
     ]
    },
    {
     "data": {
      "text/html": [],
      "text/plain": [
       "<IPython.core.display.HTML object>"
      ]
     },
     "metadata": {},
     "output_type": "display_data"
    },
    {
     "data": {
      "text/html": [
       "<br>    <style><br>        .wandb-row {<br>            display: flex;<br>            flex-direction: row;<br>            flex-wrap: wrap;<br>            justify-content: flex-start;<br>            width: 100%;<br>        }<br>        .wandb-col {<br>            display: flex;<br>            flex-direction: column;<br>            flex-basis: 100%;<br>            flex: 1;<br>            padding: 10px;<br>        }<br>    </style><br><div class=\"wandb-row\"><div class=\"wandb-col\"><h3>Run history:</h3><br/><table class=\"wandb\"><tr><td>C</td><td>▁</td></tr><tr><td>accuracy</td><td>▁</td></tr><tr><td>trial_number</td><td>▁</td></tr></table><br/></div><div class=\"wandb-col\"><h3>Run summary:</h3><br/><table class=\"wandb\"><tr><td>C</td><td>0.00146</td></tr><tr><td>accuracy</td><td>0.32272</td></tr><tr><td>kernel</td><td>linear</td></tr><tr><td>trial_number</td><td>3</td></tr></table><br/></div></div>"
      ],
      "text/plain": [
       "<IPython.core.display.HTML object>"
      ]
     },
     "metadata": {},
     "output_type": "display_data"
    },
    {
     "data": {
      "text/html": [
       " View run <strong style=\"color:#cdcd00\">trial/3/serene-music-5</strong> at: <a href='https://wandb.ai/midonik10-wsb-merito/svm-feature-optuna/runs/gbvtz62t' target=\"_blank\">https://wandb.ai/midonik10-wsb-merito/svm-feature-optuna/runs/gbvtz62t</a><br> View project at: <a href='https://wandb.ai/midonik10-wsb-merito/svm-feature-optuna' target=\"_blank\">https://wandb.ai/midonik10-wsb-merito/svm-feature-optuna</a><br>Synced 5 W&B file(s), 0 media file(s), 0 artifact file(s) and 0 other file(s)"
      ],
      "text/plain": [
       "<IPython.core.display.HTML object>"
      ]
     },
     "metadata": {},
     "output_type": "display_data"
    },
    {
     "data": {
      "text/html": [
       "Find logs at: <code>./wandb/run-20250401_191155-gbvtz62t/logs</code>"
      ],
      "text/plain": [
       "<IPython.core.display.HTML object>"
      ]
     },
     "metadata": {},
     "output_type": "display_data"
    },
    {
     "data": {
      "text/html": [
       "Tracking run with wandb version 0.19.8"
      ],
      "text/plain": [
       "<IPython.core.display.HTML object>"
      ]
     },
     "metadata": {},
     "output_type": "display_data"
    },
    {
     "data": {
      "text/html": [
       "Run data is saved locally in <code>/home/studio-lab-user/sagemaker-studiolab-notebooks/ThesisProject/notebooks/wandb/run-20250401_191653-q6mszn0q</code>"
      ],
      "text/plain": [
       "<IPython.core.display.HTML object>"
      ]
     },
     "metadata": {},
     "output_type": "display_data"
    },
    {
     "data": {
      "text/html": [
       "Syncing run <strong><a href='https://wandb.ai/midonik10-wsb-merito/svm-feature-optuna/runs/q6mszn0q' target=\"_blank\">royal-mountain-6</a></strong> to <a href='https://wandb.ai/midonik10-wsb-merito/svm-feature-optuna' target=\"_blank\">Weights & Biases</a> (<a href='https://wandb.me/developer-guide' target=\"_blank\">docs</a>)<br>"
      ],
      "text/plain": [
       "<IPython.core.display.HTML object>"
      ]
     },
     "metadata": {},
     "output_type": "display_data"
    },
    {
     "data": {
      "text/html": [
       " View project at <a href='https://wandb.ai/midonik10-wsb-merito/svm-feature-optuna' target=\"_blank\">https://wandb.ai/midonik10-wsb-merito/svm-feature-optuna</a>"
      ],
      "text/plain": [
       "<IPython.core.display.HTML object>"
      ]
     },
     "metadata": {},
     "output_type": "display_data"
    },
    {
     "data": {
      "text/html": [
       " View run at <a href='https://wandb.ai/midonik10-wsb-merito/svm-feature-optuna/runs/q6mszn0q' target=\"_blank\">https://wandb.ai/midonik10-wsb-merito/svm-feature-optuna/runs/q6mszn0q</a>"
      ],
      "text/plain": [
       "<IPython.core.display.HTML object>"
      ]
     },
     "metadata": {},
     "output_type": "display_data"
    },
    {
     "name": "stderr",
     "output_type": "stream",
     "text": [
      "[I 2025-04-01 19:28:38,151] Trial 4 finished with value: 0.026322115384615385 and parameters: {'C': 0.0013777234270928404, 'kernel': 'rbf', 'gamma': 0.00014936721832437772}. Best is trial 0 with value: 0.4865384615384616.\n"
     ]
    },
    {
     "data": {
      "text/html": [],
      "text/plain": [
       "<IPython.core.display.HTML object>"
      ]
     },
     "metadata": {},
     "output_type": "display_data"
    },
    {
     "data": {
      "text/html": [
       "<br>    <style><br>        .wandb-row {<br>            display: flex;<br>            flex-direction: row;<br>            flex-wrap: wrap;<br>            justify-content: flex-start;<br>            width: 100%;<br>        }<br>        .wandb-col {<br>            display: flex;<br>            flex-direction: column;<br>            flex-basis: 100%;<br>            flex: 1;<br>            padding: 10px;<br>        }<br>    </style><br><div class=\"wandb-row\"><div class=\"wandb-col\"><h3>Run history:</h3><br/><table class=\"wandb\"><tr><td>C</td><td>▁</td></tr><tr><td>accuracy</td><td>▁</td></tr><tr><td>gamma</td><td>▁</td></tr><tr><td>trial_number</td><td>▁</td></tr></table><br/></div><div class=\"wandb-col\"><h3>Run summary:</h3><br/><table class=\"wandb\"><tr><td>C</td><td>0.00138</td></tr><tr><td>accuracy</td><td>0.02632</td></tr><tr><td>gamma</td><td>0.00015</td></tr><tr><td>kernel</td><td>rbf</td></tr><tr><td>trial_number</td><td>4</td></tr></table><br/></div></div>"
      ],
      "text/plain": [
       "<IPython.core.display.HTML object>"
      ]
     },
     "metadata": {},
     "output_type": "display_data"
    },
    {
     "data": {
      "text/html": [
       " View run <strong style=\"color:#cdcd00\">trial/4/royal-mountain-6</strong> at: <a href='https://wandb.ai/midonik10-wsb-merito/svm-feature-optuna/runs/q6mszn0q' target=\"_blank\">https://wandb.ai/midonik10-wsb-merito/svm-feature-optuna/runs/q6mszn0q</a><br> View project at: <a href='https://wandb.ai/midonik10-wsb-merito/svm-feature-optuna' target=\"_blank\">https://wandb.ai/midonik10-wsb-merito/svm-feature-optuna</a><br>Synced 5 W&B file(s), 0 media file(s), 0 artifact file(s) and 0 other file(s)"
      ],
      "text/plain": [
       "<IPython.core.display.HTML object>"
      ]
     },
     "metadata": {},
     "output_type": "display_data"
    },
    {
     "data": {
      "text/html": [
       "Find logs at: <code>./wandb/run-20250401_191653-q6mszn0q/logs</code>"
      ],
      "text/plain": [
       "<IPython.core.display.HTML object>"
      ]
     },
     "metadata": {},
     "output_type": "display_data"
    },
    {
     "data": {
      "text/html": [
       "Tracking run with wandb version 0.19.8"
      ],
      "text/plain": [
       "<IPython.core.display.HTML object>"
      ]
     },
     "metadata": {},
     "output_type": "display_data"
    },
    {
     "data": {
      "text/html": [
       "Run data is saved locally in <code>/home/studio-lab-user/sagemaker-studiolab-notebooks/ThesisProject/notebooks/wandb/run-20250401_192838-y4kbm9lu</code>"
      ],
      "text/plain": [
       "<IPython.core.display.HTML object>"
      ]
     },
     "metadata": {},
     "output_type": "display_data"
    },
    {
     "data": {
      "text/html": [
       "Syncing run <strong><a href='https://wandb.ai/midonik10-wsb-merito/svm-feature-optuna/runs/y4kbm9lu' target=\"_blank\">charmed-sunset-7</a></strong> to <a href='https://wandb.ai/midonik10-wsb-merito/svm-feature-optuna' target=\"_blank\">Weights & Biases</a> (<a href='https://wandb.me/developer-guide' target=\"_blank\">docs</a>)<br>"
      ],
      "text/plain": [
       "<IPython.core.display.HTML object>"
      ]
     },
     "metadata": {},
     "output_type": "display_data"
    },
    {
     "data": {
      "text/html": [
       " View project at <a href='https://wandb.ai/midonik10-wsb-merito/svm-feature-optuna' target=\"_blank\">https://wandb.ai/midonik10-wsb-merito/svm-feature-optuna</a>"
      ],
      "text/plain": [
       "<IPython.core.display.HTML object>"
      ]
     },
     "metadata": {},
     "output_type": "display_data"
    },
    {
     "data": {
      "text/html": [
       " View run at <a href='https://wandb.ai/midonik10-wsb-merito/svm-feature-optuna/runs/y4kbm9lu' target=\"_blank\">https://wandb.ai/midonik10-wsb-merito/svm-feature-optuna/runs/y4kbm9lu</a>"
      ],
      "text/plain": [
       "<IPython.core.display.HTML object>"
      ]
     },
     "metadata": {},
     "output_type": "display_data"
    },
    {
     "name": "stderr",
     "output_type": "stream",
     "text": [
      "/home/studio-lab-user/.conda/envs/plantenv/lib/python3.11/site-packages/sklearn/svm/_base.py:305: ConvergenceWarning: Solver terminated early (max_iter=10000).  Consider pre-processing your data with StandardScaler or MinMaxScaler.\n",
      "  warnings.warn(\n",
      "/home/studio-lab-user/.conda/envs/plantenv/lib/python3.11/site-packages/sklearn/svm/_base.py:305: ConvergenceWarning: Solver terminated early (max_iter=10000).  Consider pre-processing your data with StandardScaler or MinMaxScaler.\n",
      "  warnings.warn(\n",
      "/home/studio-lab-user/.conda/envs/plantenv/lib/python3.11/site-packages/sklearn/svm/_base.py:305: ConvergenceWarning: Solver terminated early (max_iter=10000).  Consider pre-processing your data with StandardScaler or MinMaxScaler.\n",
      "  warnings.warn(\n",
      "[I 2025-04-01 19:37:06,461] Trial 5 finished with value: 0.39507211538461534 and parameters: {'C': 99.79558785285928, 'kernel': 'linear'}. Best is trial 0 with value: 0.4865384615384616.\n"
     ]
    },
    {
     "data": {
      "text/html": [],
      "text/plain": [
       "<IPython.core.display.HTML object>"
      ]
     },
     "metadata": {},
     "output_type": "display_data"
    },
    {
     "data": {
      "text/html": [
       "<br>    <style><br>        .wandb-row {<br>            display: flex;<br>            flex-direction: row;<br>            flex-wrap: wrap;<br>            justify-content: flex-start;<br>            width: 100%;<br>        }<br>        .wandb-col {<br>            display: flex;<br>            flex-direction: column;<br>            flex-basis: 100%;<br>            flex: 1;<br>            padding: 10px;<br>        }<br>    </style><br><div class=\"wandb-row\"><div class=\"wandb-col\"><h3>Run history:</h3><br/><table class=\"wandb\"><tr><td>C</td><td>▁</td></tr><tr><td>accuracy</td><td>▁</td></tr><tr><td>trial_number</td><td>▁</td></tr></table><br/></div><div class=\"wandb-col\"><h3>Run summary:</h3><br/><table class=\"wandb\"><tr><td>C</td><td>99.79559</td></tr><tr><td>accuracy</td><td>0.39507</td></tr><tr><td>kernel</td><td>linear</td></tr><tr><td>trial_number</td><td>5</td></tr></table><br/></div></div>"
      ],
      "text/plain": [
       "<IPython.core.display.HTML object>"
      ]
     },
     "metadata": {},
     "output_type": "display_data"
    },
    {
     "data": {
      "text/html": [
       " View run <strong style=\"color:#cdcd00\">trial/5/charmed-sunset-7</strong> at: <a href='https://wandb.ai/midonik10-wsb-merito/svm-feature-optuna/runs/y4kbm9lu' target=\"_blank\">https://wandb.ai/midonik10-wsb-merito/svm-feature-optuna/runs/y4kbm9lu</a><br> View project at: <a href='https://wandb.ai/midonik10-wsb-merito/svm-feature-optuna' target=\"_blank\">https://wandb.ai/midonik10-wsb-merito/svm-feature-optuna</a><br>Synced 5 W&B file(s), 0 media file(s), 0 artifact file(s) and 0 other file(s)"
      ],
      "text/plain": [
       "<IPython.core.display.HTML object>"
      ]
     },
     "metadata": {},
     "output_type": "display_data"
    },
    {
     "data": {
      "text/html": [
       "Find logs at: <code>./wandb/run-20250401_192838-y4kbm9lu/logs</code>"
      ],
      "text/plain": [
       "<IPython.core.display.HTML object>"
      ]
     },
     "metadata": {},
     "output_type": "display_data"
    },
    {
     "data": {
      "text/html": [
       "Tracking run with wandb version 0.19.8"
      ],
      "text/plain": [
       "<IPython.core.display.HTML object>"
      ]
     },
     "metadata": {},
     "output_type": "display_data"
    },
    {
     "data": {
      "text/html": [
       "Run data is saved locally in <code>/home/studio-lab-user/sagemaker-studiolab-notebooks/ThesisProject/notebooks/wandb/run-20250401_193707-ggsskv1p</code>"
      ],
      "text/plain": [
       "<IPython.core.display.HTML object>"
      ]
     },
     "metadata": {},
     "output_type": "display_data"
    },
    {
     "data": {
      "text/html": [
       "Syncing run <strong><a href='https://wandb.ai/midonik10-wsb-merito/svm-feature-optuna/runs/ggsskv1p' target=\"_blank\">splendid-planet-8</a></strong> to <a href='https://wandb.ai/midonik10-wsb-merito/svm-feature-optuna' target=\"_blank\">Weights & Biases</a> (<a href='https://wandb.me/developer-guide' target=\"_blank\">docs</a>)<br>"
      ],
      "text/plain": [
       "<IPython.core.display.HTML object>"
      ]
     },
     "metadata": {},
     "output_type": "display_data"
    },
    {
     "data": {
      "text/html": [
       " View project at <a href='https://wandb.ai/midonik10-wsb-merito/svm-feature-optuna' target=\"_blank\">https://wandb.ai/midonik10-wsb-merito/svm-feature-optuna</a>"
      ],
      "text/plain": [
       "<IPython.core.display.HTML object>"
      ]
     },
     "metadata": {},
     "output_type": "display_data"
    },
    {
     "data": {
      "text/html": [
       " View run at <a href='https://wandb.ai/midonik10-wsb-merito/svm-feature-optuna/runs/ggsskv1p' target=\"_blank\">https://wandb.ai/midonik10-wsb-merito/svm-feature-optuna/runs/ggsskv1p</a>"
      ],
      "text/plain": [
       "<IPython.core.display.HTML object>"
      ]
     },
     "metadata": {},
     "output_type": "display_data"
    },
    {
     "name": "stderr",
     "output_type": "stream",
     "text": [
      "/home/studio-lab-user/.conda/envs/plantenv/lib/python3.11/site-packages/sklearn/svm/_base.py:305: ConvergenceWarning: Solver terminated early (max_iter=10000).  Consider pre-processing your data with StandardScaler or MinMaxScaler.\n",
      "  warnings.warn(\n",
      "/home/studio-lab-user/.conda/envs/plantenv/lib/python3.11/site-packages/sklearn/svm/_base.py:305: ConvergenceWarning: Solver terminated early (max_iter=10000).  Consider pre-processing your data with StandardScaler or MinMaxScaler.\n",
      "  warnings.warn(\n",
      "/home/studio-lab-user/.conda/envs/plantenv/lib/python3.11/site-packages/sklearn/svm/_base.py:305: ConvergenceWarning: Solver terminated early (max_iter=10000).  Consider pre-processing your data with StandardScaler or MinMaxScaler.\n",
      "  warnings.warn(\n",
      "[I 2025-04-01 19:43:29,182] Trial 6 finished with value: 0.46574519230769235 and parameters: {'C': 28.30136755968014, 'kernel': 'linear'}. Best is trial 0 with value: 0.4865384615384616.\n"
     ]
    },
    {
     "data": {
      "text/html": [],
      "text/plain": [
       "<IPython.core.display.HTML object>"
      ]
     },
     "metadata": {},
     "output_type": "display_data"
    },
    {
     "data": {
      "text/html": [
       "<br>    <style><br>        .wandb-row {<br>            display: flex;<br>            flex-direction: row;<br>            flex-wrap: wrap;<br>            justify-content: flex-start;<br>            width: 100%;<br>        }<br>        .wandb-col {<br>            display: flex;<br>            flex-direction: column;<br>            flex-basis: 100%;<br>            flex: 1;<br>            padding: 10px;<br>        }<br>    </style><br><div class=\"wandb-row\"><div class=\"wandb-col\"><h3>Run history:</h3><br/><table class=\"wandb\"><tr><td>C</td><td>▁</td></tr><tr><td>accuracy</td><td>▁</td></tr><tr><td>trial_number</td><td>▁</td></tr></table><br/></div><div class=\"wandb-col\"><h3>Run summary:</h3><br/><table class=\"wandb\"><tr><td>C</td><td>28.30137</td></tr><tr><td>accuracy</td><td>0.46575</td></tr><tr><td>kernel</td><td>linear</td></tr><tr><td>trial_number</td><td>6</td></tr></table><br/></div></div>"
      ],
      "text/plain": [
       "<IPython.core.display.HTML object>"
      ]
     },
     "metadata": {},
     "output_type": "display_data"
    },
    {
     "data": {
      "text/html": [
       " View run <strong style=\"color:#cdcd00\">trial/6/splendid-planet-8</strong> at: <a href='https://wandb.ai/midonik10-wsb-merito/svm-feature-optuna/runs/ggsskv1p' target=\"_blank\">https://wandb.ai/midonik10-wsb-merito/svm-feature-optuna/runs/ggsskv1p</a><br> View project at: <a href='https://wandb.ai/midonik10-wsb-merito/svm-feature-optuna' target=\"_blank\">https://wandb.ai/midonik10-wsb-merito/svm-feature-optuna</a><br>Synced 5 W&B file(s), 0 media file(s), 0 artifact file(s) and 0 other file(s)"
      ],
      "text/plain": [
       "<IPython.core.display.HTML object>"
      ]
     },
     "metadata": {},
     "output_type": "display_data"
    },
    {
     "data": {
      "text/html": [
       "Find logs at: <code>./wandb/run-20250401_193707-ggsskv1p/logs</code>"
      ],
      "text/plain": [
       "<IPython.core.display.HTML object>"
      ]
     },
     "metadata": {},
     "output_type": "display_data"
    },
    {
     "data": {
      "text/html": [
       "Tracking run with wandb version 0.19.8"
      ],
      "text/plain": [
       "<IPython.core.display.HTML object>"
      ]
     },
     "metadata": {},
     "output_type": "display_data"
    },
    {
     "data": {
      "text/html": [
       "Run data is saved locally in <code>/home/studio-lab-user/sagemaker-studiolab-notebooks/ThesisProject/notebooks/wandb/run-20250401_194330-e1cjm8h4</code>"
      ],
      "text/plain": [
       "<IPython.core.display.HTML object>"
      ]
     },
     "metadata": {},
     "output_type": "display_data"
    },
    {
     "data": {
      "text/html": [
       "Syncing run <strong><a href='https://wandb.ai/midonik10-wsb-merito/svm-feature-optuna/runs/e1cjm8h4' target=\"_blank\">misunderstood-morning-9</a></strong> to <a href='https://wandb.ai/midonik10-wsb-merito/svm-feature-optuna' target=\"_blank\">Weights & Biases</a> (<a href='https://wandb.me/developer-guide' target=\"_blank\">docs</a>)<br>"
      ],
      "text/plain": [
       "<IPython.core.display.HTML object>"
      ]
     },
     "metadata": {},
     "output_type": "display_data"
    },
    {
     "data": {
      "text/html": [
       " View project at <a href='https://wandb.ai/midonik10-wsb-merito/svm-feature-optuna' target=\"_blank\">https://wandb.ai/midonik10-wsb-merito/svm-feature-optuna</a>"
      ],
      "text/plain": [
       "<IPython.core.display.HTML object>"
      ]
     },
     "metadata": {},
     "output_type": "display_data"
    },
    {
     "data": {
      "text/html": [
       " View run at <a href='https://wandb.ai/midonik10-wsb-merito/svm-feature-optuna/runs/e1cjm8h4' target=\"_blank\">https://wandb.ai/midonik10-wsb-merito/svm-feature-optuna/runs/e1cjm8h4</a>"
      ],
      "text/plain": [
       "<IPython.core.display.HTML object>"
      ]
     },
     "metadata": {},
     "output_type": "display_data"
    },
    {
     "name": "stderr",
     "output_type": "stream",
     "text": [
      "[I 2025-04-01 19:53:30,129] Trial 7 finished with value: 0.2456730769230769 and parameters: {'C': 17.05738558041179, 'kernel': 'rbf', 'gamma': 1.5181451896364203e-05}. Best is trial 0 with value: 0.4865384615384616.\n"
     ]
    },
    {
     "data": {
      "text/html": [],
      "text/plain": [
       "<IPython.core.display.HTML object>"
      ]
     },
     "metadata": {},
     "output_type": "display_data"
    },
    {
     "data": {
      "text/html": [
       "<br>    <style><br>        .wandb-row {<br>            display: flex;<br>            flex-direction: row;<br>            flex-wrap: wrap;<br>            justify-content: flex-start;<br>            width: 100%;<br>        }<br>        .wandb-col {<br>            display: flex;<br>            flex-direction: column;<br>            flex-basis: 100%;<br>            flex: 1;<br>            padding: 10px;<br>        }<br>    </style><br><div class=\"wandb-row\"><div class=\"wandb-col\"><h3>Run history:</h3><br/><table class=\"wandb\"><tr><td>C</td><td>▁</td></tr><tr><td>accuracy</td><td>▁</td></tr><tr><td>gamma</td><td>▁</td></tr><tr><td>trial_number</td><td>▁</td></tr></table><br/></div><div class=\"wandb-col\"><h3>Run summary:</h3><br/><table class=\"wandb\"><tr><td>C</td><td>17.05739</td></tr><tr><td>accuracy</td><td>0.24567</td></tr><tr><td>gamma</td><td>2e-05</td></tr><tr><td>kernel</td><td>rbf</td></tr><tr><td>trial_number</td><td>7</td></tr></table><br/></div></div>"
      ],
      "text/plain": [
       "<IPython.core.display.HTML object>"
      ]
     },
     "metadata": {},
     "output_type": "display_data"
    },
    {
     "data": {
      "text/html": [
       " View run <strong style=\"color:#cdcd00\">trial/7/misunderstood-morning-9</strong> at: <a href='https://wandb.ai/midonik10-wsb-merito/svm-feature-optuna/runs/e1cjm8h4' target=\"_blank\">https://wandb.ai/midonik10-wsb-merito/svm-feature-optuna/runs/e1cjm8h4</a><br> View project at: <a href='https://wandb.ai/midonik10-wsb-merito/svm-feature-optuna' target=\"_blank\">https://wandb.ai/midonik10-wsb-merito/svm-feature-optuna</a><br>Synced 5 W&B file(s), 0 media file(s), 0 artifact file(s) and 0 other file(s)"
      ],
      "text/plain": [
       "<IPython.core.display.HTML object>"
      ]
     },
     "metadata": {},
     "output_type": "display_data"
    },
    {
     "data": {
      "text/html": [
       "Find logs at: <code>./wandb/run-20250401_194330-e1cjm8h4/logs</code>"
      ],
      "text/plain": [
       "<IPython.core.display.HTML object>"
      ]
     },
     "metadata": {},
     "output_type": "display_data"
    },
    {
     "data": {
      "text/html": [
       "Tracking run with wandb version 0.19.8"
      ],
      "text/plain": [
       "<IPython.core.display.HTML object>"
      ]
     },
     "metadata": {},
     "output_type": "display_data"
    },
    {
     "data": {
      "text/html": [
       "Run data is saved locally in <code>/home/studio-lab-user/sagemaker-studiolab-notebooks/ThesisProject/notebooks/wandb/run-20250401_195330-athfrbhs</code>"
      ],
      "text/plain": [
       "<IPython.core.display.HTML object>"
      ]
     },
     "metadata": {},
     "output_type": "display_data"
    },
    {
     "data": {
      "text/html": [
       "Syncing run <strong><a href='https://wandb.ai/midonik10-wsb-merito/svm-feature-optuna/runs/athfrbhs' target=\"_blank\">still-river-10</a></strong> to <a href='https://wandb.ai/midonik10-wsb-merito/svm-feature-optuna' target=\"_blank\">Weights & Biases</a> (<a href='https://wandb.me/developer-guide' target=\"_blank\">docs</a>)<br>"
      ],
      "text/plain": [
       "<IPython.core.display.HTML object>"
      ]
     },
     "metadata": {},
     "output_type": "display_data"
    },
    {
     "data": {
      "text/html": [
       " View project at <a href='https://wandb.ai/midonik10-wsb-merito/svm-feature-optuna' target=\"_blank\">https://wandb.ai/midonik10-wsb-merito/svm-feature-optuna</a>"
      ],
      "text/plain": [
       "<IPython.core.display.HTML object>"
      ]
     },
     "metadata": {},
     "output_type": "display_data"
    },
    {
     "data": {
      "text/html": [
       " View run at <a href='https://wandb.ai/midonik10-wsb-merito/svm-feature-optuna/runs/athfrbhs' target=\"_blank\">https://wandb.ai/midonik10-wsb-merito/svm-feature-optuna/runs/athfrbhs</a>"
      ],
      "text/plain": [
       "<IPython.core.display.HTML object>"
      ]
     },
     "metadata": {},
     "output_type": "display_data"
    },
    {
     "name": "stderr",
     "output_type": "stream",
     "text": [
      "[I 2025-04-01 20:05:05,743] Trial 8 finished with value: 0.026322115384615385 and parameters: {'C': 0.0014421966434767259, 'kernel': 'rbf', 'gamma': 3.4115711564830205e-05}. Best is trial 0 with value: 0.4865384615384616.\n"
     ]
    },
    {
     "data": {
      "text/html": [],
      "text/plain": [
       "<IPython.core.display.HTML object>"
      ]
     },
     "metadata": {},
     "output_type": "display_data"
    },
    {
     "data": {
      "text/html": [
       "<br>    <style><br>        .wandb-row {<br>            display: flex;<br>            flex-direction: row;<br>            flex-wrap: wrap;<br>            justify-content: flex-start;<br>            width: 100%;<br>        }<br>        .wandb-col {<br>            display: flex;<br>            flex-direction: column;<br>            flex-basis: 100%;<br>            flex: 1;<br>            padding: 10px;<br>        }<br>    </style><br><div class=\"wandb-row\"><div class=\"wandb-col\"><h3>Run history:</h3><br/><table class=\"wandb\"><tr><td>C</td><td>▁</td></tr><tr><td>accuracy</td><td>▁</td></tr><tr><td>gamma</td><td>▁</td></tr><tr><td>trial_number</td><td>▁</td></tr></table><br/></div><div class=\"wandb-col\"><h3>Run summary:</h3><br/><table class=\"wandb\"><tr><td>C</td><td>0.00144</td></tr><tr><td>accuracy</td><td>0.02632</td></tr><tr><td>gamma</td><td>3e-05</td></tr><tr><td>kernel</td><td>rbf</td></tr><tr><td>trial_number</td><td>8</td></tr></table><br/></div></div>"
      ],
      "text/plain": [
       "<IPython.core.display.HTML object>"
      ]
     },
     "metadata": {},
     "output_type": "display_data"
    },
    {
     "data": {
      "text/html": [
       " View run <strong style=\"color:#cdcd00\">trial/8/still-river-10</strong> at: <a href='https://wandb.ai/midonik10-wsb-merito/svm-feature-optuna/runs/athfrbhs' target=\"_blank\">https://wandb.ai/midonik10-wsb-merito/svm-feature-optuna/runs/athfrbhs</a><br> View project at: <a href='https://wandb.ai/midonik10-wsb-merito/svm-feature-optuna' target=\"_blank\">https://wandb.ai/midonik10-wsb-merito/svm-feature-optuna</a><br>Synced 5 W&B file(s), 0 media file(s), 0 artifact file(s) and 0 other file(s)"
      ],
      "text/plain": [
       "<IPython.core.display.HTML object>"
      ]
     },
     "metadata": {},
     "output_type": "display_data"
    },
    {
     "data": {
      "text/html": [
       "Find logs at: <code>./wandb/run-20250401_195330-athfrbhs/logs</code>"
      ],
      "text/plain": [
       "<IPython.core.display.HTML object>"
      ]
     },
     "metadata": {},
     "output_type": "display_data"
    },
    {
     "data": {
      "text/html": [
       "Tracking run with wandb version 0.19.8"
      ],
      "text/plain": [
       "<IPython.core.display.HTML object>"
      ]
     },
     "metadata": {},
     "output_type": "display_data"
    },
    {
     "data": {
      "text/html": [
       "Run data is saved locally in <code>/home/studio-lab-user/sagemaker-studiolab-notebooks/ThesisProject/notebooks/wandb/run-20250401_200506-tga7ez5f</code>"
      ],
      "text/plain": [
       "<IPython.core.display.HTML object>"
      ]
     },
     "metadata": {},
     "output_type": "display_data"
    },
    {
     "data": {
      "text/html": [
       "Syncing run <strong><a href='https://wandb.ai/midonik10-wsb-merito/svm-feature-optuna/runs/tga7ez5f' target=\"_blank\">light-serenity-11</a></strong> to <a href='https://wandb.ai/midonik10-wsb-merito/svm-feature-optuna' target=\"_blank\">Weights & Biases</a> (<a href='https://wandb.me/developer-guide' target=\"_blank\">docs</a>)<br>"
      ],
      "text/plain": [
       "<IPython.core.display.HTML object>"
      ]
     },
     "metadata": {},
     "output_type": "display_data"
    },
    {
     "data": {
      "text/html": [
       " View project at <a href='https://wandb.ai/midonik10-wsb-merito/svm-feature-optuna' target=\"_blank\">https://wandb.ai/midonik10-wsb-merito/svm-feature-optuna</a>"
      ],
      "text/plain": [
       "<IPython.core.display.HTML object>"
      ]
     },
     "metadata": {},
     "output_type": "display_data"
    },
    {
     "data": {
      "text/html": [
       " View run at <a href='https://wandb.ai/midonik10-wsb-merito/svm-feature-optuna/runs/tga7ez5f' target=\"_blank\">https://wandb.ai/midonik10-wsb-merito/svm-feature-optuna/runs/tga7ez5f</a>"
      ],
      "text/plain": [
       "<IPython.core.display.HTML object>"
      ]
     },
     "metadata": {},
     "output_type": "display_data"
    },
    {
     "name": "stderr",
     "output_type": "stream",
     "text": [
      "[I 2025-04-01 20:15:33,011] Trial 9 finished with value: 0.18056891025641023 and parameters: {'C': 0.1367360396524628, 'kernel': 'rbf', 'gamma': 0.0010715102157944731}. Best is trial 0 with value: 0.4865384615384616.\n"
     ]
    },
    {
     "data": {
      "text/html": [],
      "text/plain": [
       "<IPython.core.display.HTML object>"
      ]
     },
     "metadata": {},
     "output_type": "display_data"
    },
    {
     "data": {
      "text/html": [
       "<br>    <style><br>        .wandb-row {<br>            display: flex;<br>            flex-direction: row;<br>            flex-wrap: wrap;<br>            justify-content: flex-start;<br>            width: 100%;<br>        }<br>        .wandb-col {<br>            display: flex;<br>            flex-direction: column;<br>            flex-basis: 100%;<br>            flex: 1;<br>            padding: 10px;<br>        }<br>    </style><br><div class=\"wandb-row\"><div class=\"wandb-col\"><h3>Run history:</h3><br/><table class=\"wandb\"><tr><td>C</td><td>▁</td></tr><tr><td>accuracy</td><td>▁</td></tr><tr><td>gamma</td><td>▁</td></tr><tr><td>trial_number</td><td>▁</td></tr></table><br/></div><div class=\"wandb-col\"><h3>Run summary:</h3><br/><table class=\"wandb\"><tr><td>C</td><td>0.13674</td></tr><tr><td>accuracy</td><td>0.18057</td></tr><tr><td>gamma</td><td>0.00107</td></tr><tr><td>kernel</td><td>rbf</td></tr><tr><td>trial_number</td><td>9</td></tr></table><br/></div></div>"
      ],
      "text/plain": [
       "<IPython.core.display.HTML object>"
      ]
     },
     "metadata": {},
     "output_type": "display_data"
    },
    {
     "data": {
      "text/html": [
       " View run <strong style=\"color:#cdcd00\">trial/9/light-serenity-11</strong> at: <a href='https://wandb.ai/midonik10-wsb-merito/svm-feature-optuna/runs/tga7ez5f' target=\"_blank\">https://wandb.ai/midonik10-wsb-merito/svm-feature-optuna/runs/tga7ez5f</a><br> View project at: <a href='https://wandb.ai/midonik10-wsb-merito/svm-feature-optuna' target=\"_blank\">https://wandb.ai/midonik10-wsb-merito/svm-feature-optuna</a><br>Synced 5 W&B file(s), 0 media file(s), 0 artifact file(s) and 0 other file(s)"
      ],
      "text/plain": [
       "<IPython.core.display.HTML object>"
      ]
     },
     "metadata": {},
     "output_type": "display_data"
    },
    {
     "data": {
      "text/html": [
       "Find logs at: <code>./wandb/run-20250401_200506-tga7ez5f/logs</code>"
      ],
      "text/plain": [
       "<IPython.core.display.HTML object>"
      ]
     },
     "metadata": {},
     "output_type": "display_data"
    },
    {
     "data": {
      "text/html": [
       "Tracking run with wandb version 0.19.8"
      ],
      "text/plain": [
       "<IPython.core.display.HTML object>"
      ]
     },
     "metadata": {},
     "output_type": "display_data"
    },
    {
     "data": {
      "text/html": [
       "Run data is saved locally in <code>/home/studio-lab-user/sagemaker-studiolab-notebooks/ThesisProject/notebooks/wandb/run-20250401_201533-a3muq600</code>"
      ],
      "text/plain": [
       "<IPython.core.display.HTML object>"
      ]
     },
     "metadata": {},
     "output_type": "display_data"
    },
    {
     "data": {
      "text/html": [
       "Syncing run <strong><a href='https://wandb.ai/midonik10-wsb-merito/svm-feature-optuna/runs/a3muq600' target=\"_blank\">playful-night-12</a></strong> to <a href='https://wandb.ai/midonik10-wsb-merito/svm-feature-optuna' target=\"_blank\">Weights & Biases</a> (<a href='https://wandb.me/developer-guide' target=\"_blank\">docs</a>)<br>"
      ],
      "text/plain": [
       "<IPython.core.display.HTML object>"
      ]
     },
     "metadata": {},
     "output_type": "display_data"
    },
    {
     "data": {
      "text/html": [
       " View project at <a href='https://wandb.ai/midonik10-wsb-merito/svm-feature-optuna' target=\"_blank\">https://wandb.ai/midonik10-wsb-merito/svm-feature-optuna</a>"
      ],
      "text/plain": [
       "<IPython.core.display.HTML object>"
      ]
     },
     "metadata": {},
     "output_type": "display_data"
    },
    {
     "data": {
      "text/html": [
       " View run at <a href='https://wandb.ai/midonik10-wsb-merito/svm-feature-optuna/runs/a3muq600' target=\"_blank\">https://wandb.ai/midonik10-wsb-merito/svm-feature-optuna/runs/a3muq600</a>"
      ],
      "text/plain": [
       "<IPython.core.display.HTML object>"
      ]
     },
     "metadata": {},
     "output_type": "display_data"
    },
    {
     "name": "stderr",
     "output_type": "stream",
     "text": [
      "/home/studio-lab-user/.conda/envs/plantenv/lib/python3.11/site-packages/sklearn/svm/_base.py:305: ConvergenceWarning: Solver terminated early (max_iter=10000).  Consider pre-processing your data with StandardScaler or MinMaxScaler.\n",
      "  warnings.warn(\n",
      "/home/studio-lab-user/.conda/envs/plantenv/lib/python3.11/site-packages/sklearn/svm/_base.py:305: ConvergenceWarning: Solver terminated early (max_iter=10000).  Consider pre-processing your data with StandardScaler or MinMaxScaler.\n",
      "  warnings.warn(\n",
      "/home/studio-lab-user/.conda/envs/plantenv/lib/python3.11/site-packages/sklearn/svm/_base.py:305: ConvergenceWarning: Solver terminated early (max_iter=10000).  Consider pre-processing your data with StandardScaler or MinMaxScaler.\n",
      "  warnings.warn(\n",
      "[I 2025-04-01 20:19:12,607] Trial 10 finished with value: 0.484375 and parameters: {'C': 2.900915746293485, 'kernel': 'linear'}. Best is trial 0 with value: 0.4865384615384616.\n"
     ]
    },
    {
     "data": {
      "text/html": [],
      "text/plain": [
       "<IPython.core.display.HTML object>"
      ]
     },
     "metadata": {},
     "output_type": "display_data"
    },
    {
     "data": {
      "text/html": [
       "<br>    <style><br>        .wandb-row {<br>            display: flex;<br>            flex-direction: row;<br>            flex-wrap: wrap;<br>            justify-content: flex-start;<br>            width: 100%;<br>        }<br>        .wandb-col {<br>            display: flex;<br>            flex-direction: column;<br>            flex-basis: 100%;<br>            flex: 1;<br>            padding: 10px;<br>        }<br>    </style><br><div class=\"wandb-row\"><div class=\"wandb-col\"><h3>Run history:</h3><br/><table class=\"wandb\"><tr><td>C</td><td>▁</td></tr><tr><td>accuracy</td><td>▁</td></tr><tr><td>trial_number</td><td>▁</td></tr></table><br/></div><div class=\"wandb-col\"><h3>Run summary:</h3><br/><table class=\"wandb\"><tr><td>C</td><td>2.90092</td></tr><tr><td>accuracy</td><td>0.48438</td></tr><tr><td>kernel</td><td>linear</td></tr><tr><td>trial_number</td><td>10</td></tr></table><br/></div></div>"
      ],
      "text/plain": [
       "<IPython.core.display.HTML object>"
      ]
     },
     "metadata": {},
     "output_type": "display_data"
    },
    {
     "data": {
      "text/html": [
       " View run <strong style=\"color:#cdcd00\">trial/10/playful-night-12</strong> at: <a href='https://wandb.ai/midonik10-wsb-merito/svm-feature-optuna/runs/a3muq600' target=\"_blank\">https://wandb.ai/midonik10-wsb-merito/svm-feature-optuna/runs/a3muq600</a><br> View project at: <a href='https://wandb.ai/midonik10-wsb-merito/svm-feature-optuna' target=\"_blank\">https://wandb.ai/midonik10-wsb-merito/svm-feature-optuna</a><br>Synced 5 W&B file(s), 0 media file(s), 0 artifact file(s) and 0 other file(s)"
      ],
      "text/plain": [
       "<IPython.core.display.HTML object>"
      ]
     },
     "metadata": {},
     "output_type": "display_data"
    },
    {
     "data": {
      "text/html": [
       "Find logs at: <code>./wandb/run-20250401_201533-a3muq600/logs</code>"
      ],
      "text/plain": [
       "<IPython.core.display.HTML object>"
      ]
     },
     "metadata": {},
     "output_type": "display_data"
    },
    {
     "data": {
      "text/html": [
       "Tracking run with wandb version 0.19.8"
      ],
      "text/plain": [
       "<IPython.core.display.HTML object>"
      ]
     },
     "metadata": {},
     "output_type": "display_data"
    },
    {
     "data": {
      "text/html": [
       "Run data is saved locally in <code>/home/studio-lab-user/sagemaker-studiolab-notebooks/ThesisProject/notebooks/wandb/run-20250401_201913-bc0ruvns</code>"
      ],
      "text/plain": [
       "<IPython.core.display.HTML object>"
      ]
     },
     "metadata": {},
     "output_type": "display_data"
    },
    {
     "data": {
      "text/html": [
       "Syncing run <strong><a href='https://wandb.ai/midonik10-wsb-merito/svm-feature-optuna/runs/bc0ruvns' target=\"_blank\">rural-glade-13</a></strong> to <a href='https://wandb.ai/midonik10-wsb-merito/svm-feature-optuna' target=\"_blank\">Weights & Biases</a> (<a href='https://wandb.me/developer-guide' target=\"_blank\">docs</a>)<br>"
      ],
      "text/plain": [
       "<IPython.core.display.HTML object>"
      ]
     },
     "metadata": {},
     "output_type": "display_data"
    },
    {
     "data": {
      "text/html": [
       " View project at <a href='https://wandb.ai/midonik10-wsb-merito/svm-feature-optuna' target=\"_blank\">https://wandb.ai/midonik10-wsb-merito/svm-feature-optuna</a>"
      ],
      "text/plain": [
       "<IPython.core.display.HTML object>"
      ]
     },
     "metadata": {},
     "output_type": "display_data"
    },
    {
     "data": {
      "text/html": [
       " View run at <a href='https://wandb.ai/midonik10-wsb-merito/svm-feature-optuna/runs/bc0ruvns' target=\"_blank\">https://wandb.ai/midonik10-wsb-merito/svm-feature-optuna/runs/bc0ruvns</a>"
      ],
      "text/plain": [
       "<IPython.core.display.HTML object>"
      ]
     },
     "metadata": {},
     "output_type": "display_data"
    },
    {
     "name": "stderr",
     "output_type": "stream",
     "text": [
      "/home/studio-lab-user/.conda/envs/plantenv/lib/python3.11/site-packages/sklearn/svm/_base.py:305: ConvergenceWarning: Solver terminated early (max_iter=10000).  Consider pre-processing your data with StandardScaler or MinMaxScaler.\n",
      "  warnings.warn(\n",
      "/home/studio-lab-user/.conda/envs/plantenv/lib/python3.11/site-packages/sklearn/svm/_base.py:305: ConvergenceWarning: Solver terminated early (max_iter=10000).  Consider pre-processing your data with StandardScaler or MinMaxScaler.\n",
      "  warnings.warn(\n",
      "/home/studio-lab-user/.conda/envs/plantenv/lib/python3.11/site-packages/sklearn/svm/_base.py:305: ConvergenceWarning: Solver terminated early (max_iter=10000).  Consider pre-processing your data with StandardScaler or MinMaxScaler.\n",
      "  warnings.warn(\n",
      "[I 2025-04-01 20:28:36,689] Trial 11 finished with value: 0.28481570512820514 and parameters: {'C': 649.7587652142237, 'kernel': 'linear'}. Best is trial 0 with value: 0.4865384615384616.\n"
     ]
    },
    {
     "data": {
      "text/html": [],
      "text/plain": [
       "<IPython.core.display.HTML object>"
      ]
     },
     "metadata": {},
     "output_type": "display_data"
    },
    {
     "data": {
      "text/html": [
       "<br>    <style><br>        .wandb-row {<br>            display: flex;<br>            flex-direction: row;<br>            flex-wrap: wrap;<br>            justify-content: flex-start;<br>            width: 100%;<br>        }<br>        .wandb-col {<br>            display: flex;<br>            flex-direction: column;<br>            flex-basis: 100%;<br>            flex: 1;<br>            padding: 10px;<br>        }<br>    </style><br><div class=\"wandb-row\"><div class=\"wandb-col\"><h3>Run history:</h3><br/><table class=\"wandb\"><tr><td>C</td><td>▁</td></tr><tr><td>accuracy</td><td>▁</td></tr><tr><td>trial_number</td><td>▁</td></tr></table><br/></div><div class=\"wandb-col\"><h3>Run summary:</h3><br/><table class=\"wandb\"><tr><td>C</td><td>649.75877</td></tr><tr><td>accuracy</td><td>0.28482</td></tr><tr><td>kernel</td><td>linear</td></tr><tr><td>trial_number</td><td>11</td></tr></table><br/></div></div>"
      ],
      "text/plain": [
       "<IPython.core.display.HTML object>"
      ]
     },
     "metadata": {},
     "output_type": "display_data"
    },
    {
     "data": {
      "text/html": [
       " View run <strong style=\"color:#cdcd00\">trial/11/rural-glade-13</strong> at: <a href='https://wandb.ai/midonik10-wsb-merito/svm-feature-optuna/runs/bc0ruvns' target=\"_blank\">https://wandb.ai/midonik10-wsb-merito/svm-feature-optuna/runs/bc0ruvns</a><br> View project at: <a href='https://wandb.ai/midonik10-wsb-merito/svm-feature-optuna' target=\"_blank\">https://wandb.ai/midonik10-wsb-merito/svm-feature-optuna</a><br>Synced 5 W&B file(s), 0 media file(s), 0 artifact file(s) and 0 other file(s)"
      ],
      "text/plain": [
       "<IPython.core.display.HTML object>"
      ]
     },
     "metadata": {},
     "output_type": "display_data"
    },
    {
     "data": {
      "text/html": [
       "Find logs at: <code>./wandb/run-20250401_201913-bc0ruvns/logs</code>"
      ],
      "text/plain": [
       "<IPython.core.display.HTML object>"
      ]
     },
     "metadata": {},
     "output_type": "display_data"
    },
    {
     "data": {
      "text/html": [
       "Tracking run with wandb version 0.19.8"
      ],
      "text/plain": [
       "<IPython.core.display.HTML object>"
      ]
     },
     "metadata": {},
     "output_type": "display_data"
    },
    {
     "data": {
      "text/html": [
       "Run data is saved locally in <code>/home/studio-lab-user/sagemaker-studiolab-notebooks/ThesisProject/notebooks/wandb/run-20250401_202837-s40cwjod</code>"
      ],
      "text/plain": [
       "<IPython.core.display.HTML object>"
      ]
     },
     "metadata": {},
     "output_type": "display_data"
    },
    {
     "data": {
      "text/html": [
       "Syncing run <strong><a href='https://wandb.ai/midonik10-wsb-merito/svm-feature-optuna/runs/s40cwjod' target=\"_blank\">vibrant-dawn-14</a></strong> to <a href='https://wandb.ai/midonik10-wsb-merito/svm-feature-optuna' target=\"_blank\">Weights & Biases</a> (<a href='https://wandb.me/developer-guide' target=\"_blank\">docs</a>)<br>"
      ],
      "text/plain": [
       "<IPython.core.display.HTML object>"
      ]
     },
     "metadata": {},
     "output_type": "display_data"
    },
    {
     "data": {
      "text/html": [
       " View project at <a href='https://wandb.ai/midonik10-wsb-merito/svm-feature-optuna' target=\"_blank\">https://wandb.ai/midonik10-wsb-merito/svm-feature-optuna</a>"
      ],
      "text/plain": [
       "<IPython.core.display.HTML object>"
      ]
     },
     "metadata": {},
     "output_type": "display_data"
    },
    {
     "data": {
      "text/html": [
       " View run at <a href='https://wandb.ai/midonik10-wsb-merito/svm-feature-optuna/runs/s40cwjod' target=\"_blank\">https://wandb.ai/midonik10-wsb-merito/svm-feature-optuna/runs/s40cwjod</a>"
      ],
      "text/plain": [
       "<IPython.core.display.HTML object>"
      ]
     },
     "metadata": {},
     "output_type": "display_data"
    },
    {
     "name": "stderr",
     "output_type": "stream",
     "text": [
      "/home/studio-lab-user/.conda/envs/plantenv/lib/python3.11/site-packages/sklearn/svm/_base.py:305: ConvergenceWarning: Solver terminated early (max_iter=10000).  Consider pre-processing your data with StandardScaler or MinMaxScaler.\n",
      "  warnings.warn(\n",
      "/home/studio-lab-user/.conda/envs/plantenv/lib/python3.11/site-packages/sklearn/svm/_base.py:305: ConvergenceWarning: Solver terminated early (max_iter=10000).  Consider pre-processing your data with StandardScaler or MinMaxScaler.\n",
      "  warnings.warn(\n",
      "/home/studio-lab-user/.conda/envs/plantenv/lib/python3.11/site-packages/sklearn/svm/_base.py:305: ConvergenceWarning: Solver terminated early (max_iter=10000).  Consider pre-processing your data with StandardScaler or MinMaxScaler.\n",
      "  warnings.warn(\n",
      "[I 2025-04-01 20:32:06,102] Trial 12 finished with value: 0.4823918269230769 and parameters: {'C': 1.933367213553635, 'kernel': 'linear'}. Best is trial 0 with value: 0.4865384615384616.\n"
     ]
    },
    {
     "data": {
      "text/html": [],
      "text/plain": [
       "<IPython.core.display.HTML object>"
      ]
     },
     "metadata": {},
     "output_type": "display_data"
    },
    {
     "data": {
      "text/html": [
       "<br>    <style><br>        .wandb-row {<br>            display: flex;<br>            flex-direction: row;<br>            flex-wrap: wrap;<br>            justify-content: flex-start;<br>            width: 100%;<br>        }<br>        .wandb-col {<br>            display: flex;<br>            flex-direction: column;<br>            flex-basis: 100%;<br>            flex: 1;<br>            padding: 10px;<br>        }<br>    </style><br><div class=\"wandb-row\"><div class=\"wandb-col\"><h3>Run history:</h3><br/><table class=\"wandb\"><tr><td>C</td><td>▁</td></tr><tr><td>accuracy</td><td>▁</td></tr><tr><td>trial_number</td><td>▁</td></tr></table><br/></div><div class=\"wandb-col\"><h3>Run summary:</h3><br/><table class=\"wandb\"><tr><td>C</td><td>1.93337</td></tr><tr><td>accuracy</td><td>0.48239</td></tr><tr><td>kernel</td><td>linear</td></tr><tr><td>trial_number</td><td>12</td></tr></table><br/></div></div>"
      ],
      "text/plain": [
       "<IPython.core.display.HTML object>"
      ]
     },
     "metadata": {},
     "output_type": "display_data"
    },
    {
     "data": {
      "text/html": [
       " View run <strong style=\"color:#cdcd00\">trial/12/vibrant-dawn-14</strong> at: <a href='https://wandb.ai/midonik10-wsb-merito/svm-feature-optuna/runs/s40cwjod' target=\"_blank\">https://wandb.ai/midonik10-wsb-merito/svm-feature-optuna/runs/s40cwjod</a><br> View project at: <a href='https://wandb.ai/midonik10-wsb-merito/svm-feature-optuna' target=\"_blank\">https://wandb.ai/midonik10-wsb-merito/svm-feature-optuna</a><br>Synced 5 W&B file(s), 0 media file(s), 0 artifact file(s) and 0 other file(s)"
      ],
      "text/plain": [
       "<IPython.core.display.HTML object>"
      ]
     },
     "metadata": {},
     "output_type": "display_data"
    },
    {
     "data": {
      "text/html": [
       "Find logs at: <code>./wandb/run-20250401_202837-s40cwjod/logs</code>"
      ],
      "text/plain": [
       "<IPython.core.display.HTML object>"
      ]
     },
     "metadata": {},
     "output_type": "display_data"
    },
    {
     "data": {
      "text/html": [
       "Tracking run with wandb version 0.19.8"
      ],
      "text/plain": [
       "<IPython.core.display.HTML object>"
      ]
     },
     "metadata": {},
     "output_type": "display_data"
    },
    {
     "data": {
      "text/html": [
       "Run data is saved locally in <code>/home/studio-lab-user/sagemaker-studiolab-notebooks/ThesisProject/notebooks/wandb/run-20250401_203206-r6hso582</code>"
      ],
      "text/plain": [
       "<IPython.core.display.HTML object>"
      ]
     },
     "metadata": {},
     "output_type": "display_data"
    },
    {
     "data": {
      "text/html": [
       "Syncing run <strong><a href='https://wandb.ai/midonik10-wsb-merito/svm-feature-optuna/runs/r6hso582' target=\"_blank\">dark-planet-15</a></strong> to <a href='https://wandb.ai/midonik10-wsb-merito/svm-feature-optuna' target=\"_blank\">Weights & Biases</a> (<a href='https://wandb.me/developer-guide' target=\"_blank\">docs</a>)<br>"
      ],
      "text/plain": [
       "<IPython.core.display.HTML object>"
      ]
     },
     "metadata": {},
     "output_type": "display_data"
    },
    {
     "data": {
      "text/html": [
       " View project at <a href='https://wandb.ai/midonik10-wsb-merito/svm-feature-optuna' target=\"_blank\">https://wandb.ai/midonik10-wsb-merito/svm-feature-optuna</a>"
      ],
      "text/plain": [
       "<IPython.core.display.HTML object>"
      ]
     },
     "metadata": {},
     "output_type": "display_data"
    },
    {
     "data": {
      "text/html": [
       " View run at <a href='https://wandb.ai/midonik10-wsb-merito/svm-feature-optuna/runs/r6hso582' target=\"_blank\">https://wandb.ai/midonik10-wsb-merito/svm-feature-optuna/runs/r6hso582</a>"
      ],
      "text/plain": [
       "<IPython.core.display.HTML object>"
      ]
     },
     "metadata": {},
     "output_type": "display_data"
    },
    {
     "name": "stderr",
     "output_type": "stream",
     "text": [
      "/home/studio-lab-user/.conda/envs/plantenv/lib/python3.11/site-packages/sklearn/svm/_base.py:305: ConvergenceWarning: Solver terminated early (max_iter=10000).  Consider pre-processing your data with StandardScaler or MinMaxScaler.\n",
      "  warnings.warn(\n",
      "/home/studio-lab-user/.conda/envs/plantenv/lib/python3.11/site-packages/sklearn/svm/_base.py:305: ConvergenceWarning: Solver terminated early (max_iter=10000).  Consider pre-processing your data with StandardScaler or MinMaxScaler.\n",
      "  warnings.warn(\n",
      "/home/studio-lab-user/.conda/envs/plantenv/lib/python3.11/site-packages/sklearn/svm/_base.py:305: ConvergenceWarning: Solver terminated early (max_iter=10000).  Consider pre-processing your data with StandardScaler or MinMaxScaler.\n",
      "  warnings.warn(\n",
      "[I 2025-04-01 20:36:23,307] Trial 13 finished with value: 0.48703926282051285 and parameters: {'C': 6.146569477438079, 'kernel': 'linear'}. Best is trial 13 with value: 0.48703926282051285.\n"
     ]
    },
    {
     "data": {
      "text/html": [],
      "text/plain": [
       "<IPython.core.display.HTML object>"
      ]
     },
     "metadata": {},
     "output_type": "display_data"
    },
    {
     "data": {
      "text/html": [
       "<br>    <style><br>        .wandb-row {<br>            display: flex;<br>            flex-direction: row;<br>            flex-wrap: wrap;<br>            justify-content: flex-start;<br>            width: 100%;<br>        }<br>        .wandb-col {<br>            display: flex;<br>            flex-direction: column;<br>            flex-basis: 100%;<br>            flex: 1;<br>            padding: 10px;<br>        }<br>    </style><br><div class=\"wandb-row\"><div class=\"wandb-col\"><h3>Run history:</h3><br/><table class=\"wandb\"><tr><td>C</td><td>▁</td></tr><tr><td>accuracy</td><td>▁</td></tr><tr><td>trial_number</td><td>▁</td></tr></table><br/></div><div class=\"wandb-col\"><h3>Run summary:</h3><br/><table class=\"wandb\"><tr><td>C</td><td>6.14657</td></tr><tr><td>accuracy</td><td>0.48704</td></tr><tr><td>kernel</td><td>linear</td></tr><tr><td>trial_number</td><td>13</td></tr></table><br/></div></div>"
      ],
      "text/plain": [
       "<IPython.core.display.HTML object>"
      ]
     },
     "metadata": {},
     "output_type": "display_data"
    },
    {
     "data": {
      "text/html": [
       " View run <strong style=\"color:#cdcd00\">trial/13/dark-planet-15</strong> at: <a href='https://wandb.ai/midonik10-wsb-merito/svm-feature-optuna/runs/r6hso582' target=\"_blank\">https://wandb.ai/midonik10-wsb-merito/svm-feature-optuna/runs/r6hso582</a><br> View project at: <a href='https://wandb.ai/midonik10-wsb-merito/svm-feature-optuna' target=\"_blank\">https://wandb.ai/midonik10-wsb-merito/svm-feature-optuna</a><br>Synced 5 W&B file(s), 0 media file(s), 0 artifact file(s) and 0 other file(s)"
      ],
      "text/plain": [
       "<IPython.core.display.HTML object>"
      ]
     },
     "metadata": {},
     "output_type": "display_data"
    },
    {
     "data": {
      "text/html": [
       "Find logs at: <code>./wandb/run-20250401_203206-r6hso582/logs</code>"
      ],
      "text/plain": [
       "<IPython.core.display.HTML object>"
      ]
     },
     "metadata": {},
     "output_type": "display_data"
    },
    {
     "data": {
      "text/html": [
       "Tracking run with wandb version 0.19.8"
      ],
      "text/plain": [
       "<IPython.core.display.HTML object>"
      ]
     },
     "metadata": {},
     "output_type": "display_data"
    },
    {
     "data": {
      "text/html": [
       "Run data is saved locally in <code>/home/studio-lab-user/sagemaker-studiolab-notebooks/ThesisProject/notebooks/wandb/run-20250401_203623-7ro7gcq7</code>"
      ],
      "text/plain": [
       "<IPython.core.display.HTML object>"
      ]
     },
     "metadata": {},
     "output_type": "display_data"
    },
    {
     "data": {
      "text/html": [
       "Syncing run <strong><a href='https://wandb.ai/midonik10-wsb-merito/svm-feature-optuna/runs/7ro7gcq7' target=\"_blank\">cerulean-hill-16</a></strong> to <a href='https://wandb.ai/midonik10-wsb-merito/svm-feature-optuna' target=\"_blank\">Weights & Biases</a> (<a href='https://wandb.me/developer-guide' target=\"_blank\">docs</a>)<br>"
      ],
      "text/plain": [
       "<IPython.core.display.HTML object>"
      ]
     },
     "metadata": {},
     "output_type": "display_data"
    },
    {
     "data": {
      "text/html": [
       " View project at <a href='https://wandb.ai/midonik10-wsb-merito/svm-feature-optuna' target=\"_blank\">https://wandb.ai/midonik10-wsb-merito/svm-feature-optuna</a>"
      ],
      "text/plain": [
       "<IPython.core.display.HTML object>"
      ]
     },
     "metadata": {},
     "output_type": "display_data"
    },
    {
     "data": {
      "text/html": [
       " View run at <a href='https://wandb.ai/midonik10-wsb-merito/svm-feature-optuna/runs/7ro7gcq7' target=\"_blank\">https://wandb.ai/midonik10-wsb-merito/svm-feature-optuna/runs/7ro7gcq7</a>"
      ],
      "text/plain": [
       "<IPython.core.display.HTML object>"
      ]
     },
     "metadata": {},
     "output_type": "display_data"
    },
    {
     "name": "stderr",
     "output_type": "stream",
     "text": [
      "[I 2025-04-01 20:39:19,990] Trial 14 finished with value: 0.4630208333333334 and parameters: {'C': 0.17530420890959159, 'kernel': 'linear'}. Best is trial 13 with value: 0.48703926282051285.\n"
     ]
    },
    {
     "data": {
      "text/html": [],
      "text/plain": [
       "<IPython.core.display.HTML object>"
      ]
     },
     "metadata": {},
     "output_type": "display_data"
    },
    {
     "data": {
      "text/html": [
       "<br>    <style><br>        .wandb-row {<br>            display: flex;<br>            flex-direction: row;<br>            flex-wrap: wrap;<br>            justify-content: flex-start;<br>            width: 100%;<br>        }<br>        .wandb-col {<br>            display: flex;<br>            flex-direction: column;<br>            flex-basis: 100%;<br>            flex: 1;<br>            padding: 10px;<br>        }<br>    </style><br><div class=\"wandb-row\"><div class=\"wandb-col\"><h3>Run history:</h3><br/><table class=\"wandb\"><tr><td>C</td><td>▁</td></tr><tr><td>accuracy</td><td>▁</td></tr><tr><td>trial_number</td><td>▁</td></tr></table><br/></div><div class=\"wandb-col\"><h3>Run summary:</h3><br/><table class=\"wandb\"><tr><td>C</td><td>0.1753</td></tr><tr><td>accuracy</td><td>0.46302</td></tr><tr><td>kernel</td><td>linear</td></tr><tr><td>trial_number</td><td>14</td></tr></table><br/></div></div>"
      ],
      "text/plain": [
       "<IPython.core.display.HTML object>"
      ]
     },
     "metadata": {},
     "output_type": "display_data"
    },
    {
     "data": {
      "text/html": [
       " View run <strong style=\"color:#cdcd00\">trial/14/cerulean-hill-16</strong> at: <a href='https://wandb.ai/midonik10-wsb-merito/svm-feature-optuna/runs/7ro7gcq7' target=\"_blank\">https://wandb.ai/midonik10-wsb-merito/svm-feature-optuna/runs/7ro7gcq7</a><br> View project at: <a href='https://wandb.ai/midonik10-wsb-merito/svm-feature-optuna' target=\"_blank\">https://wandb.ai/midonik10-wsb-merito/svm-feature-optuna</a><br>Synced 5 W&B file(s), 0 media file(s), 0 artifact file(s) and 0 other file(s)"
      ],
      "text/plain": [
       "<IPython.core.display.HTML object>"
      ]
     },
     "metadata": {},
     "output_type": "display_data"
    },
    {
     "data": {
      "text/html": [
       "Find logs at: <code>./wandb/run-20250401_203623-7ro7gcq7/logs</code>"
      ],
      "text/plain": [
       "<IPython.core.display.HTML object>"
      ]
     },
     "metadata": {},
     "output_type": "display_data"
    },
    {
     "data": {
      "text/html": [
       "Tracking run with wandb version 0.19.8"
      ],
      "text/plain": [
       "<IPython.core.display.HTML object>"
      ]
     },
     "metadata": {},
     "output_type": "display_data"
    },
    {
     "data": {
      "text/html": [
       "Run data is saved locally in <code>/home/studio-lab-user/sagemaker-studiolab-notebooks/ThesisProject/notebooks/wandb/run-20250401_203920-x35c6et5</code>"
      ],
      "text/plain": [
       "<IPython.core.display.HTML object>"
      ]
     },
     "metadata": {},
     "output_type": "display_data"
    },
    {
     "data": {
      "text/html": [
       "Syncing run <strong><a href='https://wandb.ai/midonik10-wsb-merito/svm-feature-optuna/runs/x35c6et5' target=\"_blank\">skilled-sun-17</a></strong> to <a href='https://wandb.ai/midonik10-wsb-merito/svm-feature-optuna' target=\"_blank\">Weights & Biases</a> (<a href='https://wandb.me/developer-guide' target=\"_blank\">docs</a>)<br>"
      ],
      "text/plain": [
       "<IPython.core.display.HTML object>"
      ]
     },
     "metadata": {},
     "output_type": "display_data"
    },
    {
     "data": {
      "text/html": [
       " View project at <a href='https://wandb.ai/midonik10-wsb-merito/svm-feature-optuna' target=\"_blank\">https://wandb.ai/midonik10-wsb-merito/svm-feature-optuna</a>"
      ],
      "text/plain": [
       "<IPython.core.display.HTML object>"
      ]
     },
     "metadata": {},
     "output_type": "display_data"
    },
    {
     "data": {
      "text/html": [
       " View run at <a href='https://wandb.ai/midonik10-wsb-merito/svm-feature-optuna/runs/x35c6et5' target=\"_blank\">https://wandb.ai/midonik10-wsb-merito/svm-feature-optuna/runs/x35c6et5</a>"
      ],
      "text/plain": [
       "<IPython.core.display.HTML object>"
      ]
     },
     "metadata": {},
     "output_type": "display_data"
    },
    {
     "name": "stderr",
     "output_type": "stream",
     "text": [
      "/home/studio-lab-user/.conda/envs/plantenv/lib/python3.11/site-packages/sklearn/svm/_base.py:305: ConvergenceWarning: Solver terminated early (max_iter=10000).  Consider pre-processing your data with StandardScaler or MinMaxScaler.\n",
      "  warnings.warn(\n",
      "/home/studio-lab-user/.conda/envs/plantenv/lib/python3.11/site-packages/sklearn/svm/_base.py:305: ConvergenceWarning: Solver terminated early (max_iter=10000).  Consider pre-processing your data with StandardScaler or MinMaxScaler.\n",
      "  warnings.warn(\n",
      "/home/studio-lab-user/.conda/envs/plantenv/lib/python3.11/site-packages/sklearn/svm/_base.py:305: ConvergenceWarning: Solver terminated early (max_iter=10000).  Consider pre-processing your data with StandardScaler or MinMaxScaler.\n",
      "  warnings.warn(\n",
      "[I 2025-04-01 20:44:06,878] Trial 15 finished with value: 0.4865985576923077 and parameters: {'C': 9.318891701168278, 'kernel': 'linear'}. Best is trial 13 with value: 0.48703926282051285.\n"
     ]
    },
    {
     "data": {
      "text/html": [],
      "text/plain": [
       "<IPython.core.display.HTML object>"
      ]
     },
     "metadata": {},
     "output_type": "display_data"
    },
    {
     "data": {
      "text/html": [
       "<br>    <style><br>        .wandb-row {<br>            display: flex;<br>            flex-direction: row;<br>            flex-wrap: wrap;<br>            justify-content: flex-start;<br>            width: 100%;<br>        }<br>        .wandb-col {<br>            display: flex;<br>            flex-direction: column;<br>            flex-basis: 100%;<br>            flex: 1;<br>            padding: 10px;<br>        }<br>    </style><br><div class=\"wandb-row\"><div class=\"wandb-col\"><h3>Run history:</h3><br/><table class=\"wandb\"><tr><td>C</td><td>▁</td></tr><tr><td>accuracy</td><td>▁</td></tr><tr><td>trial_number</td><td>▁</td></tr></table><br/></div><div class=\"wandb-col\"><h3>Run summary:</h3><br/><table class=\"wandb\"><tr><td>C</td><td>9.31889</td></tr><tr><td>accuracy</td><td>0.4866</td></tr><tr><td>kernel</td><td>linear</td></tr><tr><td>trial_number</td><td>15</td></tr></table><br/></div></div>"
      ],
      "text/plain": [
       "<IPython.core.display.HTML object>"
      ]
     },
     "metadata": {},
     "output_type": "display_data"
    },
    {
     "data": {
      "text/html": [
       " View run <strong style=\"color:#cdcd00\">trial/15/skilled-sun-17</strong> at: <a href='https://wandb.ai/midonik10-wsb-merito/svm-feature-optuna/runs/x35c6et5' target=\"_blank\">https://wandb.ai/midonik10-wsb-merito/svm-feature-optuna/runs/x35c6et5</a><br> View project at: <a href='https://wandb.ai/midonik10-wsb-merito/svm-feature-optuna' target=\"_blank\">https://wandb.ai/midonik10-wsb-merito/svm-feature-optuna</a><br>Synced 5 W&B file(s), 0 media file(s), 0 artifact file(s) and 0 other file(s)"
      ],
      "text/plain": [
       "<IPython.core.display.HTML object>"
      ]
     },
     "metadata": {},
     "output_type": "display_data"
    },
    {
     "data": {
      "text/html": [
       "Find logs at: <code>./wandb/run-20250401_203920-x35c6et5/logs</code>"
      ],
      "text/plain": [
       "<IPython.core.display.HTML object>"
      ]
     },
     "metadata": {},
     "output_type": "display_data"
    },
    {
     "data": {
      "text/html": [
       "Tracking run with wandb version 0.19.8"
      ],
      "text/plain": [
       "<IPython.core.display.HTML object>"
      ]
     },
     "metadata": {},
     "output_type": "display_data"
    },
    {
     "data": {
      "text/html": [
       "Run data is saved locally in <code>/home/studio-lab-user/sagemaker-studiolab-notebooks/ThesisProject/notebooks/wandb/run-20250401_204407-ietahhxm</code>"
      ],
      "text/plain": [
       "<IPython.core.display.HTML object>"
      ]
     },
     "metadata": {},
     "output_type": "display_data"
    },
    {
     "data": {
      "text/html": [
       "Syncing run <strong><a href='https://wandb.ai/midonik10-wsb-merito/svm-feature-optuna/runs/ietahhxm' target=\"_blank\">twilight-bee-18</a></strong> to <a href='https://wandb.ai/midonik10-wsb-merito/svm-feature-optuna' target=\"_blank\">Weights & Biases</a> (<a href='https://wandb.me/developer-guide' target=\"_blank\">docs</a>)<br>"
      ],
      "text/plain": [
       "<IPython.core.display.HTML object>"
      ]
     },
     "metadata": {},
     "output_type": "display_data"
    },
    {
     "data": {
      "text/html": [
       " View project at <a href='https://wandb.ai/midonik10-wsb-merito/svm-feature-optuna' target=\"_blank\">https://wandb.ai/midonik10-wsb-merito/svm-feature-optuna</a>"
      ],
      "text/plain": [
       "<IPython.core.display.HTML object>"
      ]
     },
     "metadata": {},
     "output_type": "display_data"
    },
    {
     "data": {
      "text/html": [
       " View run at <a href='https://wandb.ai/midonik10-wsb-merito/svm-feature-optuna/runs/ietahhxm' target=\"_blank\">https://wandb.ai/midonik10-wsb-merito/svm-feature-optuna/runs/ietahhxm</a>"
      ],
      "text/plain": [
       "<IPython.core.display.HTML object>"
      ]
     },
     "metadata": {},
     "output_type": "display_data"
    },
    {
     "name": "stderr",
     "output_type": "stream",
     "text": [
      "/home/studio-lab-user/.conda/envs/plantenv/lib/python3.11/site-packages/sklearn/svm/_base.py:305: ConvergenceWarning: Solver terminated early (max_iter=10000).  Consider pre-processing your data with StandardScaler or MinMaxScaler.\n",
      "  warnings.warn(\n",
      "/home/studio-lab-user/.conda/envs/plantenv/lib/python3.11/site-packages/sklearn/svm/_base.py:305: ConvergenceWarning: Solver terminated early (max_iter=10000).  Consider pre-processing your data with StandardScaler or MinMaxScaler.\n",
      "  warnings.warn(\n",
      "/home/studio-lab-user/.conda/envs/plantenv/lib/python3.11/site-packages/sklearn/svm/_base.py:305: ConvergenceWarning: Solver terminated early (max_iter=10000).  Consider pre-processing your data with StandardScaler or MinMaxScaler.\n",
      "  warnings.warn(\n",
      "[I 2025-04-01 20:52:55,864] Trial 16 finished with value: 0.3292067307692308 and parameters: {'C': 243.5232513019551, 'kernel': 'linear'}. Best is trial 13 with value: 0.48703926282051285.\n"
     ]
    },
    {
     "data": {
      "text/html": [],
      "text/plain": [
       "<IPython.core.display.HTML object>"
      ]
     },
     "metadata": {},
     "output_type": "display_data"
    },
    {
     "data": {
      "text/html": [
       "<br>    <style><br>        .wandb-row {<br>            display: flex;<br>            flex-direction: row;<br>            flex-wrap: wrap;<br>            justify-content: flex-start;<br>            width: 100%;<br>        }<br>        .wandb-col {<br>            display: flex;<br>            flex-direction: column;<br>            flex-basis: 100%;<br>            flex: 1;<br>            padding: 10px;<br>        }<br>    </style><br><div class=\"wandb-row\"><div class=\"wandb-col\"><h3>Run history:</h3><br/><table class=\"wandb\"><tr><td>C</td><td>▁</td></tr><tr><td>accuracy</td><td>▁</td></tr><tr><td>trial_number</td><td>▁</td></tr></table><br/></div><div class=\"wandb-col\"><h3>Run summary:</h3><br/><table class=\"wandb\"><tr><td>C</td><td>243.52325</td></tr><tr><td>accuracy</td><td>0.32921</td></tr><tr><td>kernel</td><td>linear</td></tr><tr><td>trial_number</td><td>16</td></tr></table><br/></div></div>"
      ],
      "text/plain": [
       "<IPython.core.display.HTML object>"
      ]
     },
     "metadata": {},
     "output_type": "display_data"
    },
    {
     "data": {
      "text/html": [
       " View run <strong style=\"color:#cdcd00\">trial/16/twilight-bee-18</strong> at: <a href='https://wandb.ai/midonik10-wsb-merito/svm-feature-optuna/runs/ietahhxm' target=\"_blank\">https://wandb.ai/midonik10-wsb-merito/svm-feature-optuna/runs/ietahhxm</a><br> View project at: <a href='https://wandb.ai/midonik10-wsb-merito/svm-feature-optuna' target=\"_blank\">https://wandb.ai/midonik10-wsb-merito/svm-feature-optuna</a><br>Synced 5 W&B file(s), 0 media file(s), 0 artifact file(s) and 0 other file(s)"
      ],
      "text/plain": [
       "<IPython.core.display.HTML object>"
      ]
     },
     "metadata": {},
     "output_type": "display_data"
    },
    {
     "data": {
      "text/html": [
       "Find logs at: <code>./wandb/run-20250401_204407-ietahhxm/logs</code>"
      ],
      "text/plain": [
       "<IPython.core.display.HTML object>"
      ]
     },
     "metadata": {},
     "output_type": "display_data"
    },
    {
     "data": {
      "text/html": [
       "Tracking run with wandb version 0.19.8"
      ],
      "text/plain": [
       "<IPython.core.display.HTML object>"
      ]
     },
     "metadata": {},
     "output_type": "display_data"
    },
    {
     "data": {
      "text/html": [
       "Run data is saved locally in <code>/home/studio-lab-user/sagemaker-studiolab-notebooks/ThesisProject/notebooks/wandb/run-20250401_205256-zjiwkp87</code>"
      ],
      "text/plain": [
       "<IPython.core.display.HTML object>"
      ]
     },
     "metadata": {},
     "output_type": "display_data"
    },
    {
     "data": {
      "text/html": [
       "Syncing run <strong><a href='https://wandb.ai/midonik10-wsb-merito/svm-feature-optuna/runs/zjiwkp87' target=\"_blank\">serene-donkey-19</a></strong> to <a href='https://wandb.ai/midonik10-wsb-merito/svm-feature-optuna' target=\"_blank\">Weights & Biases</a> (<a href='https://wandb.me/developer-guide' target=\"_blank\">docs</a>)<br>"
      ],
      "text/plain": [
       "<IPython.core.display.HTML object>"
      ]
     },
     "metadata": {},
     "output_type": "display_data"
    },
    {
     "data": {
      "text/html": [
       " View project at <a href='https://wandb.ai/midonik10-wsb-merito/svm-feature-optuna' target=\"_blank\">https://wandb.ai/midonik10-wsb-merito/svm-feature-optuna</a>"
      ],
      "text/plain": [
       "<IPython.core.display.HTML object>"
      ]
     },
     "metadata": {},
     "output_type": "display_data"
    },
    {
     "data": {
      "text/html": [
       " View run at <a href='https://wandb.ai/midonik10-wsb-merito/svm-feature-optuna/runs/zjiwkp87' target=\"_blank\">https://wandb.ai/midonik10-wsb-merito/svm-feature-optuna/runs/zjiwkp87</a>"
      ],
      "text/plain": [
       "<IPython.core.display.HTML object>"
      ]
     },
     "metadata": {},
     "output_type": "display_data"
    },
    {
     "name": "stderr",
     "output_type": "stream",
     "text": [
      "/home/studio-lab-user/.conda/envs/plantenv/lib/python3.11/site-packages/sklearn/svm/_base.py:305: ConvergenceWarning: Solver terminated early (max_iter=10000).  Consider pre-processing your data with StandardScaler or MinMaxScaler.\n",
      "  warnings.warn(\n",
      "/home/studio-lab-user/.conda/envs/plantenv/lib/python3.11/site-packages/sklearn/svm/_base.py:305: ConvergenceWarning: Solver terminated early (max_iter=10000).  Consider pre-processing your data with StandardScaler or MinMaxScaler.\n",
      "  warnings.warn(\n",
      "/home/studio-lab-user/.conda/envs/plantenv/lib/python3.11/site-packages/sklearn/svm/_base.py:305: ConvergenceWarning: Solver terminated early (max_iter=10000).  Consider pre-processing your data with StandardScaler or MinMaxScaler.\n",
      "  warnings.warn(\n",
      "[I 2025-04-01 21:02:54,323] Trial 17 finished with value: 0.43423477564102564 and parameters: {'C': 53.01293201446777, 'kernel': 'linear'}. Best is trial 13 with value: 0.48703926282051285.\n"
     ]
    },
    {
     "data": {
      "text/html": [],
      "text/plain": [
       "<IPython.core.display.HTML object>"
      ]
     },
     "metadata": {},
     "output_type": "display_data"
    },
    {
     "data": {
      "text/html": [
       "<br>    <style><br>        .wandb-row {<br>            display: flex;<br>            flex-direction: row;<br>            flex-wrap: wrap;<br>            justify-content: flex-start;<br>            width: 100%;<br>        }<br>        .wandb-col {<br>            display: flex;<br>            flex-direction: column;<br>            flex-basis: 100%;<br>            flex: 1;<br>            padding: 10px;<br>        }<br>    </style><br><div class=\"wandb-row\"><div class=\"wandb-col\"><h3>Run history:</h3><br/><table class=\"wandb\"><tr><td>C</td><td>▁</td></tr><tr><td>accuracy</td><td>▁</td></tr><tr><td>trial_number</td><td>▁</td></tr></table><br/></div><div class=\"wandb-col\"><h3>Run summary:</h3><br/><table class=\"wandb\"><tr><td>C</td><td>53.01293</td></tr><tr><td>accuracy</td><td>0.43423</td></tr><tr><td>kernel</td><td>linear</td></tr><tr><td>trial_number</td><td>17</td></tr></table><br/></div></div>"
      ],
      "text/plain": [
       "<IPython.core.display.HTML object>"
      ]
     },
     "metadata": {},
     "output_type": "display_data"
    },
    {
     "data": {
      "text/html": [
       " View run <strong style=\"color:#cdcd00\">trial/17/serene-donkey-19</strong> at: <a href='https://wandb.ai/midonik10-wsb-merito/svm-feature-optuna/runs/zjiwkp87' target=\"_blank\">https://wandb.ai/midonik10-wsb-merito/svm-feature-optuna/runs/zjiwkp87</a><br> View project at: <a href='https://wandb.ai/midonik10-wsb-merito/svm-feature-optuna' target=\"_blank\">https://wandb.ai/midonik10-wsb-merito/svm-feature-optuna</a><br>Synced 5 W&B file(s), 0 media file(s), 0 artifact file(s) and 0 other file(s)"
      ],
      "text/plain": [
       "<IPython.core.display.HTML object>"
      ]
     },
     "metadata": {},
     "output_type": "display_data"
    },
    {
     "data": {
      "text/html": [
       "Find logs at: <code>./wandb/run-20250401_205256-zjiwkp87/logs</code>"
      ],
      "text/plain": [
       "<IPython.core.display.HTML object>"
      ]
     },
     "metadata": {},
     "output_type": "display_data"
    },
    {
     "data": {
      "text/html": [
       "Tracking run with wandb version 0.19.8"
      ],
      "text/plain": [
       "<IPython.core.display.HTML object>"
      ]
     },
     "metadata": {},
     "output_type": "display_data"
    },
    {
     "data": {
      "text/html": [
       "Run data is saved locally in <code>/home/studio-lab-user/sagemaker-studiolab-notebooks/ThesisProject/notebooks/wandb/run-20250401_210254-kdobja26</code>"
      ],
      "text/plain": [
       "<IPython.core.display.HTML object>"
      ]
     },
     "metadata": {},
     "output_type": "display_data"
    },
    {
     "data": {
      "text/html": [
       "Syncing run <strong><a href='https://wandb.ai/midonik10-wsb-merito/svm-feature-optuna/runs/kdobja26' target=\"_blank\">young-plasma-20</a></strong> to <a href='https://wandb.ai/midonik10-wsb-merito/svm-feature-optuna' target=\"_blank\">Weights & Biases</a> (<a href='https://wandb.me/developer-guide' target=\"_blank\">docs</a>)<br>"
      ],
      "text/plain": [
       "<IPython.core.display.HTML object>"
      ]
     },
     "metadata": {},
     "output_type": "display_data"
    },
    {
     "data": {
      "text/html": [
       " View project at <a href='https://wandb.ai/midonik10-wsb-merito/svm-feature-optuna' target=\"_blank\">https://wandb.ai/midonik10-wsb-merito/svm-feature-optuna</a>"
      ],
      "text/plain": [
       "<IPython.core.display.HTML object>"
      ]
     },
     "metadata": {},
     "output_type": "display_data"
    },
    {
     "data": {
      "text/html": [
       " View run at <a href='https://wandb.ai/midonik10-wsb-merito/svm-feature-optuna/runs/kdobja26' target=\"_blank\">https://wandb.ai/midonik10-wsb-merito/svm-feature-optuna/runs/kdobja26</a>"
      ],
      "text/plain": [
       "<IPython.core.display.HTML object>"
      ]
     },
     "metadata": {},
     "output_type": "display_data"
    },
    {
     "name": "stderr",
     "output_type": "stream",
     "text": [
      "/home/studio-lab-user/.conda/envs/plantenv/lib/python3.11/site-packages/sklearn/svm/_base.py:305: ConvergenceWarning: Solver terminated early (max_iter=10000).  Consider pre-processing your data with StandardScaler or MinMaxScaler.\n",
      "  warnings.warn(\n",
      "[I 2025-04-01 21:07:52,494] Trial 18 finished with value: 0.46768830128205124 and parameters: {'C': 0.29720674511939105, 'kernel': 'linear'}. Best is trial 13 with value: 0.48703926282051285.\n"
     ]
    },
    {
     "data": {
      "text/html": [],
      "text/plain": [
       "<IPython.core.display.HTML object>"
      ]
     },
     "metadata": {},
     "output_type": "display_data"
    },
    {
     "data": {
      "text/html": [
       "<br>    <style><br>        .wandb-row {<br>            display: flex;<br>            flex-direction: row;<br>            flex-wrap: wrap;<br>            justify-content: flex-start;<br>            width: 100%;<br>        }<br>        .wandb-col {<br>            display: flex;<br>            flex-direction: column;<br>            flex-basis: 100%;<br>            flex: 1;<br>            padding: 10px;<br>        }<br>    </style><br><div class=\"wandb-row\"><div class=\"wandb-col\"><h3>Run history:</h3><br/><table class=\"wandb\"><tr><td>C</td><td>▁</td></tr><tr><td>accuracy</td><td>▁</td></tr><tr><td>trial_number</td><td>▁</td></tr></table><br/></div><div class=\"wandb-col\"><h3>Run summary:</h3><br/><table class=\"wandb\"><tr><td>C</td><td>0.29721</td></tr><tr><td>accuracy</td><td>0.46769</td></tr><tr><td>kernel</td><td>linear</td></tr><tr><td>trial_number</td><td>18</td></tr></table><br/></div></div>"
      ],
      "text/plain": [
       "<IPython.core.display.HTML object>"
      ]
     },
     "metadata": {},
     "output_type": "display_data"
    },
    {
     "data": {
      "text/html": [
       " View run <strong style=\"color:#cdcd00\">trial/18/young-plasma-20</strong> at: <a href='https://wandb.ai/midonik10-wsb-merito/svm-feature-optuna/runs/kdobja26' target=\"_blank\">https://wandb.ai/midonik10-wsb-merito/svm-feature-optuna/runs/kdobja26</a><br> View project at: <a href='https://wandb.ai/midonik10-wsb-merito/svm-feature-optuna' target=\"_blank\">https://wandb.ai/midonik10-wsb-merito/svm-feature-optuna</a><br>Synced 5 W&B file(s), 0 media file(s), 0 artifact file(s) and 0 other file(s)"
      ],
      "text/plain": [
       "<IPython.core.display.HTML object>"
      ]
     },
     "metadata": {},
     "output_type": "display_data"
    },
    {
     "data": {
      "text/html": [
       "Find logs at: <code>./wandb/run-20250401_210254-kdobja26/logs</code>"
      ],
      "text/plain": [
       "<IPython.core.display.HTML object>"
      ]
     },
     "metadata": {},
     "output_type": "display_data"
    },
    {
     "data": {
      "text/html": [
       "Tracking run with wandb version 0.19.8"
      ],
      "text/plain": [
       "<IPython.core.display.HTML object>"
      ]
     },
     "metadata": {},
     "output_type": "display_data"
    },
    {
     "data": {
      "text/html": [
       "Run data is saved locally in <code>/home/studio-lab-user/sagemaker-studiolab-notebooks/ThesisProject/notebooks/wandb/run-20250401_210753-bffyvc5z</code>"
      ],
      "text/plain": [
       "<IPython.core.display.HTML object>"
      ]
     },
     "metadata": {},
     "output_type": "display_data"
    },
    {
     "data": {
      "text/html": [
       "Syncing run <strong><a href='https://wandb.ai/midonik10-wsb-merito/svm-feature-optuna/runs/bffyvc5z' target=\"_blank\">expert-wave-21</a></strong> to <a href='https://wandb.ai/midonik10-wsb-merito/svm-feature-optuna' target=\"_blank\">Weights & Biases</a> (<a href='https://wandb.me/developer-guide' target=\"_blank\">docs</a>)<br>"
      ],
      "text/plain": [
       "<IPython.core.display.HTML object>"
      ]
     },
     "metadata": {},
     "output_type": "display_data"
    },
    {
     "data": {
      "text/html": [
       " View project at <a href='https://wandb.ai/midonik10-wsb-merito/svm-feature-optuna' target=\"_blank\">https://wandb.ai/midonik10-wsb-merito/svm-feature-optuna</a>"
      ],
      "text/plain": [
       "<IPython.core.display.HTML object>"
      ]
     },
     "metadata": {},
     "output_type": "display_data"
    },
    {
     "data": {
      "text/html": [
       " View run at <a href='https://wandb.ai/midonik10-wsb-merito/svm-feature-optuna/runs/bffyvc5z' target=\"_blank\">https://wandb.ai/midonik10-wsb-merito/svm-feature-optuna/runs/bffyvc5z</a>"
      ],
      "text/plain": [
       "<IPython.core.display.HTML object>"
      ]
     },
     "metadata": {},
     "output_type": "display_data"
    },
    {
     "name": "stderr",
     "output_type": "stream",
     "text": [
      "[I 2025-04-01 21:14:25,442] Trial 19 finished with value: 0.4078525641025641 and parameters: {'C': 0.009567765133614538, 'kernel': 'linear'}. Best is trial 13 with value: 0.48703926282051285.\n"
     ]
    },
    {
     "data": {
      "text/html": [],
      "text/plain": [
       "<IPython.core.display.HTML object>"
      ]
     },
     "metadata": {},
     "output_type": "display_data"
    },
    {
     "data": {
      "text/html": [
       "<br>    <style><br>        .wandb-row {<br>            display: flex;<br>            flex-direction: row;<br>            flex-wrap: wrap;<br>            justify-content: flex-start;<br>            width: 100%;<br>        }<br>        .wandb-col {<br>            display: flex;<br>            flex-direction: column;<br>            flex-basis: 100%;<br>            flex: 1;<br>            padding: 10px;<br>        }<br>    </style><br><div class=\"wandb-row\"><div class=\"wandb-col\"><h3>Run history:</h3><br/><table class=\"wandb\"><tr><td>C</td><td>▁</td></tr><tr><td>accuracy</td><td>▁</td></tr><tr><td>trial_number</td><td>▁</td></tr></table><br/></div><div class=\"wandb-col\"><h3>Run summary:</h3><br/><table class=\"wandb\"><tr><td>C</td><td>0.00957</td></tr><tr><td>accuracy</td><td>0.40785</td></tr><tr><td>kernel</td><td>linear</td></tr><tr><td>trial_number</td><td>19</td></tr></table><br/></div></div>"
      ],
      "text/plain": [
       "<IPython.core.display.HTML object>"
      ]
     },
     "metadata": {},
     "output_type": "display_data"
    },
    {
     "data": {
      "text/html": [
       " View run <strong style=\"color:#cdcd00\">trial/19/expert-wave-21</strong> at: <a href='https://wandb.ai/midonik10-wsb-merito/svm-feature-optuna/runs/bffyvc5z' target=\"_blank\">https://wandb.ai/midonik10-wsb-merito/svm-feature-optuna/runs/bffyvc5z</a><br> View project at: <a href='https://wandb.ai/midonik10-wsb-merito/svm-feature-optuna' target=\"_blank\">https://wandb.ai/midonik10-wsb-merito/svm-feature-optuna</a><br>Synced 5 W&B file(s), 0 media file(s), 0 artifact file(s) and 0 other file(s)"
      ],
      "text/plain": [
       "<IPython.core.display.HTML object>"
      ]
     },
     "metadata": {},
     "output_type": "display_data"
    },
    {
     "data": {
      "text/html": [
       "Find logs at: <code>./wandb/run-20250401_210753-bffyvc5z/logs</code>"
      ],
      "text/plain": [
       "<IPython.core.display.HTML object>"
      ]
     },
     "metadata": {},
     "output_type": "display_data"
    },
    {
     "data": {
      "text/html": [
       "Tracking run with wandb version 0.19.8"
      ],
      "text/plain": [
       "<IPython.core.display.HTML object>"
      ]
     },
     "metadata": {},
     "output_type": "display_data"
    },
    {
     "data": {
      "text/html": [
       "Run data is saved locally in <code>/home/studio-lab-user/sagemaker-studiolab-notebooks/ThesisProject/notebooks/wandb/run-20250401_211426-e4yw4agx</code>"
      ],
      "text/plain": [
       "<IPython.core.display.HTML object>"
      ]
     },
     "metadata": {},
     "output_type": "display_data"
    },
    {
     "data": {
      "text/html": [
       "Syncing run <strong><a href='https://wandb.ai/midonik10-wsb-merito/svm-feature-optuna/runs/e4yw4agx' target=\"_blank\">fearless-feather-22</a></strong> to <a href='https://wandb.ai/midonik10-wsb-merito/svm-feature-optuna' target=\"_blank\">Weights & Biases</a> (<a href='https://wandb.me/developer-guide' target=\"_blank\">docs</a>)<br>"
      ],
      "text/plain": [
       "<IPython.core.display.HTML object>"
      ]
     },
     "metadata": {},
     "output_type": "display_data"
    },
    {
     "data": {
      "text/html": [
       " View project at <a href='https://wandb.ai/midonik10-wsb-merito/svm-feature-optuna' target=\"_blank\">https://wandb.ai/midonik10-wsb-merito/svm-feature-optuna</a>"
      ],
      "text/plain": [
       "<IPython.core.display.HTML object>"
      ]
     },
     "metadata": {},
     "output_type": "display_data"
    },
    {
     "data": {
      "text/html": [
       " View run at <a href='https://wandb.ai/midonik10-wsb-merito/svm-feature-optuna/runs/e4yw4agx' target=\"_blank\">https://wandb.ai/midonik10-wsb-merito/svm-feature-optuna/runs/e4yw4agx</a>"
      ],
      "text/plain": [
       "<IPython.core.display.HTML object>"
      ]
     },
     "metadata": {},
     "output_type": "display_data"
    }
   ],
   "source": [
    "study.optimize(objective, n_trials=30, callbacks=[wandbc])"
   ]
  },
  {
   "cell_type": "markdown",
   "id": "9cd39dcf-7ebe-4978-8286-8beb790eca94",
   "metadata": {},
   "source": [
    "# Podsumowanie"
   ]
  },
  {
   "cell_type": "code",
   "execution_count": null,
   "id": "d65a8755-6d73-41ce-ba81-a50b2979c347",
   "metadata": {
    "tags": []
   },
   "outputs": [],
   "source": [
    "print(\"# Najlepszy wynik:\")\n",
    "print(study.best_trial.params)\n",
    "print(f\"Accuracy: {study.best_trial.value:.4f}\")"
   ]
  }
 ],
 "metadata": {
  "kernelspec": {
   "display_name": ".conda-plantenv:Python",
   "language": "python",
   "name": "conda-env-.conda-plantenv-py"
  },
  "language_info": {
   "codemirror_mode": {
    "name": "ipython",
    "version": 3
   },
   "file_extension": ".py",
   "mimetype": "text/x-python",
   "name": "python",
   "nbconvert_exporter": "python",
   "pygments_lexer": "ipython3",
   "version": "3.11.11"
  }
 },
 "nbformat": 4,
 "nbformat_minor": 5
}
