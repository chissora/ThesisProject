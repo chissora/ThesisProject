{
 "cells": [
  {
   "cell_type": "markdown",
   "id": "af895f67-10df-443e-a851-68784465a70e",
   "metadata": {},
   "source": [
    "# Importy"
   ]
  },
  {
   "cell_type": "code",
   "execution_count": 11,
   "id": "c49c692f-8019-4b34-9679-838c17cd1236",
   "metadata": {},
   "outputs": [
    {
     "data": {
      "text/html": [
       "<style>.output_scroll {height: 300px; overflow: auto;}</style>"
      ],
      "text/plain": [
       "<IPython.core.display.HTML object>"
      ]
     },
     "metadata": {},
     "output_type": "display_data"
    }
   ],
   "source": [
    "import os\n",
    "import cv2\n",
    "import numpy as np\n",
    "import pickle\n",
    "import joblib\n",
    "import time\n",
    "import psutil\n",
    "import platform\n",
    "import pandas as pd\n",
    "from tqdm import tqdm\n",
    "import tensorflow as tf\n",
    "import optuna\n",
    "import matplotlib.pyplot as plt\n",
    "from collections import Counter\n",
    "from sklearn.pipeline import Pipeline\n",
    "from sklearn.preprocessing import StandardScaler, LabelEncoder\n",
    "from sklearn.svm import SVC\n",
    "from sklearn.metrics import classification_report, accuracy_score, precision_score, recall_score, f1_score\n",
    "from skimage.feature import graycomatrix, graycoprops\n",
    "from IPython.display import display, HTML\n",
    "import warnings\n",
    "\n",
    "warnings.filterwarnings(\"ignore\")\n",
    "display(HTML(\"<style>.output_scroll {height: 300px; overflow: auto;}</style>\"))"
   ]
  },
  {
   "cell_type": "markdown",
   "id": "8d913e80-f584-4db3-9bbf-4670598829f7",
   "metadata": {},
   "source": [
    "# Informacje o sprzęcie"
   ]
  },
  {
   "cell_type": "code",
   "execution_count": 2,
   "id": "afc937ab-b555-4c98-8303-5d4e9a102ccf",
   "metadata": {
    "tags": []
   },
   "outputs": [
    {
     "name": "stdout",
     "output_type": "stream",
     "text": [
      "\n",
      "--- SPRZĘT ---\n",
      "System: Linux 5.10.234-225.910.amzn2.x86_64\n",
      "Procesor: x86_64\n",
      "Liczba rdzeni fizycznych: 2\n",
      "Liczba rdzeni logicznych (wątki): 4\n",
      "Częstotliwość CPU: 2499.99 MHz\n",
      "RAM: 15.43 GB\n",
      "GPU: brak (CPU only)\n"
     ]
    },
    {
     "name": "stderr",
     "output_type": "stream",
     "text": [
      "2025-04-05 10:23:10.540611: E external/local_xla/xla/stream_executor/cuda/cuda_platform.cc:51] failed call to cuInit: INTERNAL: CUDA error: Failed call to cuInit: UNKNOWN ERROR (303)\n"
     ]
    }
   ],
   "source": [
    "def print_hardware_info():\n",
    "    print(\"\\n--- SPRZĘT ---\")\n",
    "\n",
    "    # Informacje o systemie operacyjnym\n",
    "    print(\"System:\", platform.system(), platform.release())\n",
    "\n",
    "    # Informacje o CPU\n",
    "    print(\"Procesor:\", platform.processor() or \"Brak szczegółów (platform.processor())\")\n",
    "    print(\"Liczba rdzeni fizycznych:\", psutil.cpu_count(logical=False))\n",
    "    print(\"Liczba rdzeni logicznych (wątki):\", psutil.cpu_count(logical=True))\n",
    "    try:\n",
    "        cpu_freq = psutil.cpu_freq()\n",
    "        if cpu_freq:\n",
    "            print(f\"Częstotliwość CPU: {cpu_freq.current:.2f} MHz\")\n",
    "    except:\n",
    "        pass\n",
    "\n",
    "    # RAM\n",
    "    ram_gb = psutil.virtual_memory().total / (1024 ** 3)\n",
    "    print(f\"RAM: {ram_gb:.2f} GB\")\n",
    "\n",
    "    # Informacje o GPU z TensorFlow\n",
    "    gpus = tf.config.list_physical_devices('GPU')\n",
    "    if gpus:\n",
    "        print(f\"Liczba dostępnych GPU: {len(gpus)}\")\n",
    "        for i, gpu in enumerate(gpus):\n",
    "            details = tf.config.experimental.get_device_details(gpu)\n",
    "            name = details.get(\"device_name\", \"N/A\")\n",
    "            print(f\"GPU {i+1}: {name}\")\n",
    "    else:\n",
    "        print(\"GPU: brak (CPU only)\")\n",
    "\n",
    "print_hardware_info()"
   ]
  },
  {
   "cell_type": "markdown",
   "id": "8d5ad2ac-d416-44e8-8e04-bece20073fbd",
   "metadata": {},
   "source": [
    "# Ścieżki"
   ]
  },
  {
   "cell_type": "code",
   "execution_count": 3,
   "id": "c9e92c49-4938-473c-a2e8-8fd6644ab745",
   "metadata": {},
   "outputs": [],
   "source": [
    "TRAIN_DIR = \"/home/studio-lab-user/sagemaker-studiolab-notebooks/ThesisProject/data/processed/plant_village_balanced/train\"\n",
    "TEST_DIR = \"/home/studio-lab-user/sagemaker-studiolab-notebooks/ThesisProject/data/processed/plant_village_balanced/test\"\n",
    "FEATURES_CACHE = \"cached_features_v2.pkl\"\n",
    "study_name = \"svm_hyperopt_feature_v2\"\n",
    "storage_url = f\"sqlite:///{study_name}.db\""
   ]
  },
  {
   "cell_type": "markdown",
   "id": "c0ce7e00-abf1-48e3-be73-20082178d493",
   "metadata": {},
   "source": [
    "# Ekstrakcja cech z obrazu"
   ]
  },
  {
   "cell_type": "code",
   "execution_count": 4,
   "id": "77c05694-5c7e-4780-8fe0-33282fa692c7",
   "metadata": {
    "tags": []
   },
   "outputs": [],
   "source": [
    "def extract_features(path):\n",
    "    img = cv2.imread(path)\n",
    "    gray = cv2.cvtColor(img, cv2.COLOR_BGR2GRAY)\n",
    "    hsv = cv2.cvtColor(img, cv2.COLOR_BGR2HSV)\n",
    "    features = []\n",
    "\n",
    "    means = cv2.mean(img)[:3]\n",
    "    stddev = cv2.meanStdDev(img)[1].flatten()[:3]\n",
    "    features.extend(means)\n",
    "    features.extend(stddev)\n",
    "\n",
    "    hist = cv2.calcHist([hsv], [0], None, [16], [0, 180]).flatten()\n",
    "    features.extend(hist)\n",
    "\n",
    "    glcm = graycomatrix(gray, distances=[5], angles=[0], levels=256, symmetric=True, normed=True)\n",
    "    for prop in ['contrast', 'correlation', 'homogeneity', 'ASM']:\n",
    "        features.append(graycoprops(glcm, prop)[0][0])\n",
    "\n",
    "    moments = cv2.moments(gray)\n",
    "    hu = cv2.HuMoments(moments).flatten()\n",
    "    features.extend(hu)\n",
    "\n",
    "    entropy = -np.sum((gray / 255.0) * np.log2((gray / 255.0) + 1e-10)) / gray.size\n",
    "    features.append(entropy)\n",
    "\n",
    "    return features"
   ]
  },
  {
   "cell_type": "markdown",
   "id": "7ca19032-1738-4696-b271-4574dd7bf2aa",
   "metadata": {},
   "source": [
    "# Ładowanie danych"
   ]
  },
  {
   "cell_type": "code",
   "execution_count": 5,
   "id": "90f71f79-b8e8-4353-8411-3e3b0daa2586",
   "metadata": {
    "tags": []
   },
   "outputs": [],
   "source": [
    "def load_dataset_from_dir(data_dir):\n",
    "    X, y = [], []\n",
    "    class_names = sorted(os.listdir(data_dir))\n",
    "\n",
    "    for class_name in tqdm(class_names, desc=f\"Loading from {os.path.basename(data_dir)}\"):\n",
    "        class_path = os.path.join(data_dir, class_name)\n",
    "        if not os.path.isdir(class_path):\n",
    "            continue\n",
    "\n",
    "        for fname in os.listdir(class_path):\n",
    "            if fname.lower().endswith((\".jpg\", \".jpeg\", \".png\")):\n",
    "                fpath = os.path.join(class_path, fname)\n",
    "                feats = extract_features(fpath)\n",
    "                X.append(feats)\n",
    "                y.append(class_name)\n",
    "\n",
    "    return np.array(X), np.array(y)"
   ]
  },
  {
   "cell_type": "markdown",
   "id": "5cc5d733-bb6a-4553-98e7-597d275ffbc3",
   "metadata": {},
   "source": [
    "# Wczytywanie lub generowanie cech"
   ]
  },
  {
   "cell_type": "code",
   "execution_count": 6,
   "id": "075d313b-77f6-4e6a-8e7a-daff01abd3e4",
   "metadata": {},
   "outputs": [
    {
     "name": "stdout",
     "output_type": "stream",
     "text": [
      "\n",
      "Wczytywanie cech z cache...\n"
     ]
    }
   ],
   "source": [
    "if os.path.exists(FEATURES_CACHE):\n",
    "    print(\"\\nWczytywanie cech z cache...\")\n",
    "    with open(FEATURES_CACHE, \"rb\") as f:\n",
    "        X, y = pickle.load(f)\n",
    "else:\n",
    "    print(\"\\nEkstrakcja cech, może chwilę potrwać...\")\n",
    "    X_train, y_train = load_dataset_from_dir(TRAIN_DIR)\n",
    "    X_test, y_test = load_dataset_from_dir(TEST_DIR)\n",
    "    X = np.concatenate((X_train, X_test), axis=0)\n",
    "    y = np.concatenate((y_train, y_test), axis=0)\n",
    "    with open(FEATURES_CACHE, \"wb\") as f:\n",
    "        pickle.dump((X, y), f)\n",
    "    print(\"Zapisano do cache.\")"
   ]
  },
  {
   "cell_type": "markdown",
   "id": "3962f6df-db6b-4ad6-8ce4-01aa197313e8",
   "metadata": {},
   "source": [
    "# Podział na dane treningowe i testowe oraz kodowanie etykiet"
   ]
  },
  {
   "cell_type": "code",
   "execution_count": 8,
   "id": "1dcd8691-5838-4ec7-bad1-9fbafeaf1536",
   "metadata": {},
   "outputs": [
    {
     "name": "stderr",
     "output_type": "stream",
     "text": [
      "Loading from train: 100%|██████████| 39/39 [07:46<00:00, 11.95s/it]\n",
      "Loading from test: 100%|██████████| 39/39 [01:58<00:00,  3.03s/it]\n"
     ]
    }
   ],
   "source": [
    "# Wczytanie danych z gotowych folderów\n",
    "X_train, y_train = load_dataset_from_dir(TRAIN_DIR)\n",
    "X_test, y_test = load_dataset_from_dir(TEST_DIR)\n",
    "\n",
    "# Kodowanie etykiet\n",
    "label_encoder = LabelEncoder()\n",
    "y_train_enc = label_encoder.fit_transform(y_train)\n",
    "y_test_enc = label_encoder.transform(y_test)"
   ]
  },
  {
   "cell_type": "markdown",
   "id": "1c2828e9-accc-42fb-839f-af0d24833fdc",
   "metadata": {
    "tags": []
   },
   "source": [
    "# Wizualizacja liczności klas w zbiorach treningowym i testowym"
   ]
  },
  {
   "cell_type": "code",
   "execution_count": 17,
   "id": "ac0b6d29-d247-4d8b-bf4a-8077d74da6e7",
   "metadata": {
    "tags": []
   },
   "outputs": [
    {
     "data": {
      "image/png": "[encoded data removed]",
      "text/plain": [
       "<Figure size 1400x500 with 2 Axes>"
      ]
     },
     "metadata": {},
     "output_type": "display_data"
    },
    {
     "data": {
      "text/html": [
       "<div>\n",
       "<style scoped>\n",
       "    .dataframe tbody tr th:only-of-type {\n",
       "        vertical-align: middle;\n",
       "    }\n",
       "\n",
       "    .dataframe tbody tr th {\n",
       "        vertical-align: top;\n",
       "    }\n",
       "\n",
       "    .dataframe thead th {\n",
       "        text-align: right;\n",
       "    }\n",
       "</style>\n",
       "<table border=\"1\" class=\"dataframe\">\n",
       "  <thead>\n",
       "    <tr style=\"text-align: right;\">\n",
       "      <th></th>\n",
       "      <th>ID klasy</th>\n",
       "      <th>Nazwa klasy</th>\n",
       "    </tr>\n",
       "  </thead>\n",
       "  <tbody>\n",
       "    <tr>\n",
       "      <th>0</th>\n",
       "      <td>0</td>\n",
       "      <td>Apple___Apple_scab</td>\n",
       "    </tr>\n",
       "    <tr>\n",
       "      <th>1</th>\n",
       "      <td>1</td>\n",
       "      <td>Apple___Black_rot</td>\n",
       "    </tr>\n",
       "    <tr>\n",
       "      <th>2</th>\n",
       "      <td>2</td>\n",
       "      <td>Apple___Cedar_apple_rust</td>\n",
       "    </tr>\n",
       "    <tr>\n",
       "      <th>3</th>\n",
       "      <td>3</td>\n",
       "      <td>Apple___healthy</td>\n",
       "    </tr>\n",
       "    <tr>\n",
       "      <th>4</th>\n",
       "      <td>4</td>\n",
       "      <td>Background_without_leaves</td>\n",
       "    </tr>\n",
       "    <tr>\n",
       "      <th>5</th>\n",
       "      <td>5</td>\n",
       "      <td>Blueberry___healthy</td>\n",
       "    </tr>\n",
       "    <tr>\n",
       "      <th>6</th>\n",
       "      <td>6</td>\n",
       "      <td>Cherry___Powdery_mildew</td>\n",
       "    </tr>\n",
       "    <tr>\n",
       "      <th>7</th>\n",
       "      <td>7</td>\n",
       "      <td>Cherry___healthy</td>\n",
       "    </tr>\n",
       "    <tr>\n",
       "      <th>8</th>\n",
       "      <td>8</td>\n",
       "      <td>Corn___Cercospora_leaf_spot Gray_leaf_spot</td>\n",
       "    </tr>\n",
       "    <tr>\n",
       "      <th>9</th>\n",
       "      <td>9</td>\n",
       "      <td>Corn___Common_rust</td>\n",
       "    </tr>\n",
       "    <tr>\n",
       "      <th>10</th>\n",
       "      <td>10</td>\n",
       "      <td>Corn___Northern_Leaf_Blight</td>\n",
       "    </tr>\n",
       "    <tr>\n",
       "      <th>11</th>\n",
       "      <td>11</td>\n",
       "      <td>Corn___healthy</td>\n",
       "    </tr>\n",
       "    <tr>\n",
       "      <th>12</th>\n",
       "      <td>12</td>\n",
       "      <td>Grape___Black_rot</td>\n",
       "    </tr>\n",
       "    <tr>\n",
       "      <th>13</th>\n",
       "      <td>13</td>\n",
       "      <td>Grape___Esca_(Black_Measles)</td>\n",
       "    </tr>\n",
       "    <tr>\n",
       "      <th>14</th>\n",
       "      <td>14</td>\n",
       "      <td>Grape___Leaf_blight_(Isariopsis_Leaf_Spot)</td>\n",
       "    </tr>\n",
       "    <tr>\n",
       "      <th>15</th>\n",
       "      <td>15</td>\n",
       "      <td>Grape___healthy</td>\n",
       "    </tr>\n",
       "    <tr>\n",
       "      <th>16</th>\n",
       "      <td>16</td>\n",
       "      <td>Orange___Haunglongbing_(Citrus_greening)</td>\n",
       "    </tr>\n",
       "    <tr>\n",
       "      <th>17</th>\n",
       "      <td>17</td>\n",
       "      <td>Peach___Bacterial_spot</td>\n",
       "    </tr>\n",
       "    <tr>\n",
       "      <th>18</th>\n",
       "      <td>18</td>\n",
       "      <td>Peach___healthy</td>\n",
       "    </tr>\n",
       "    <tr>\n",
       "      <th>19</th>\n",
       "      <td>19</td>\n",
       "      <td>Pepper,_bell___Bacterial_spot</td>\n",
       "    </tr>\n",
       "    <tr>\n",
       "      <th>20</th>\n",
       "      <td>20</td>\n",
       "      <td>Pepper,_bell___healthy</td>\n",
       "    </tr>\n",
       "    <tr>\n",
       "      <th>21</th>\n",
       "      <td>21</td>\n",
       "      <td>Potato___Early_blight</td>\n",
       "    </tr>\n",
       "    <tr>\n",
       "      <th>22</th>\n",
       "      <td>22</td>\n",
       "      <td>Potato___Late_blight</td>\n",
       "    </tr>\n",
       "    <tr>\n",
       "      <th>23</th>\n",
       "      <td>23</td>\n",
       "      <td>Potato___healthy</td>\n",
       "    </tr>\n",
       "    <tr>\n",
       "      <th>24</th>\n",
       "      <td>24</td>\n",
       "      <td>Raspberry___healthy</td>\n",
       "    </tr>\n",
       "    <tr>\n",
       "      <th>25</th>\n",
       "      <td>25</td>\n",
       "      <td>Soybean___healthy</td>\n",
       "    </tr>\n",
       "    <tr>\n",
       "      <th>26</th>\n",
       "      <td>26</td>\n",
       "      <td>Squash___Powdery_mildew</td>\n",
       "    </tr>\n",
       "    <tr>\n",
       "      <th>27</th>\n",
       "      <td>27</td>\n",
       "      <td>Strawberry___Leaf_scorch</td>\n",
       "    </tr>\n",
       "    <tr>\n",
       "      <th>28</th>\n",
       "      <td>28</td>\n",
       "      <td>Strawberry___healthy</td>\n",
       "    </tr>\n",
       "    <tr>\n",
       "      <th>29</th>\n",
       "      <td>29</td>\n",
       "      <td>Tomato___Bacterial_spot</td>\n",
       "    </tr>\n",
       "    <tr>\n",
       "      <th>30</th>\n",
       "      <td>30</td>\n",
       "      <td>Tomato___Early_blight</td>\n",
       "    </tr>\n",
       "    <tr>\n",
       "      <th>31</th>\n",
       "      <td>31</td>\n",
       "      <td>Tomato___Late_blight</td>\n",
       "    </tr>\n",
       "    <tr>\n",
       "      <th>32</th>\n",
       "      <td>32</td>\n",
       "      <td>Tomato___Leaf_Mold</td>\n",
       "    </tr>\n",
       "    <tr>\n",
       "      <th>33</th>\n",
       "      <td>33</td>\n",
       "      <td>Tomato___Septoria_leaf_spot</td>\n",
       "    </tr>\n",
       "    <tr>\n",
       "      <th>34</th>\n",
       "      <td>34</td>\n",
       "      <td>Tomato___Spider_mites Two-spotted_spider_mite</td>\n",
       "    </tr>\n",
       "    <tr>\n",
       "      <th>35</th>\n",
       "      <td>35</td>\n",
       "      <td>Tomato___Target_Spot</td>\n",
       "    </tr>\n",
       "    <tr>\n",
       "      <th>36</th>\n",
       "      <td>36</td>\n",
       "      <td>Tomato___Tomato_Yellow_Leaf_Curl_Virus</td>\n",
       "    </tr>\n",
       "    <tr>\n",
       "      <th>37</th>\n",
       "      <td>37</td>\n",
       "      <td>Tomato___Tomato_mosaic_virus</td>\n",
       "    </tr>\n",
       "    <tr>\n",
       "      <th>38</th>\n",
       "      <td>38</td>\n",
       "      <td>Tomato___healthy</td>\n",
       "    </tr>\n",
       "  </tbody>\n",
       "</table>\n",
       "</div>"
      ],
      "text/plain": [
       "    ID klasy                                    Nazwa klasy\n",
       "0          0                             Apple___Apple_scab\n",
       "1          1                              Apple___Black_rot\n",
       "2          2                       Apple___Cedar_apple_rust\n",
       "3          3                                Apple___healthy\n",
       "4          4                      Background_without_leaves\n",
       "5          5                            Blueberry___healthy\n",
       "6          6                        Cherry___Powdery_mildew\n",
       "7          7                               Cherry___healthy\n",
       "8          8     Corn___Cercospora_leaf_spot Gray_leaf_spot\n",
       "9          9                             Corn___Common_rust\n",
       "10        10                    Corn___Northern_Leaf_Blight\n",
       "11        11                                 Corn___healthy\n",
       "12        12                              Grape___Black_rot\n",
       "13        13                   Grape___Esca_(Black_Measles)\n",
       "14        14     Grape___Leaf_blight_(Isariopsis_Leaf_Spot)\n",
       "15        15                                Grape___healthy\n",
       "16        16       Orange___Haunglongbing_(Citrus_greening)\n",
       "17        17                         Peach___Bacterial_spot\n",
       "18        18                                Peach___healthy\n",
       "19        19                  Pepper,_bell___Bacterial_spot\n",
       "20        20                         Pepper,_bell___healthy\n",
       "21        21                          Potato___Early_blight\n",
       "22        22                           Potato___Late_blight\n",
       "23        23                               Potato___healthy\n",
       "24        24                            Raspberry___healthy\n",
       "25        25                              Soybean___healthy\n",
       "26        26                        Squash___Powdery_mildew\n",
       "27        27                       Strawberry___Leaf_scorch\n",
       "28        28                           Strawberry___healthy\n",
       "29        29                        Tomato___Bacterial_spot\n",
       "30        30                          Tomato___Early_blight\n",
       "31        31                           Tomato___Late_blight\n",
       "32        32                             Tomato___Leaf_Mold\n",
       "33        33                    Tomato___Septoria_leaf_spot\n",
       "34        34  Tomato___Spider_mites Two-spotted_spider_mite\n",
       "35        35                           Tomato___Target_Spot\n",
       "36        36         Tomato___Tomato_Yellow_Leaf_Curl_Virus\n",
       "37        37                   Tomato___Tomato_mosaic_virus\n",
       "38        38                               Tomato___healthy"
      ]
     },
     "metadata": {},
     "output_type": "display_data"
    }
   ],
   "source": [
    "# Mapowanie nazw klas na indeksy\n",
    "class_labels = sorted(set(list(y_train) + list(y_test)))\n",
    "label_to_index = {label: i for i, label in enumerate(class_labels)}\n",
    "\n",
    "# Zliczanie klas z użyciem indeksów\n",
    "train_counts = Counter([label_to_index[label] for label in y_train])\n",
    "test_counts = Counter([label_to_index[label] for label in y_test])\n",
    "\n",
    "# Wykres bez nazw klas (tylko indeksy)\n",
    "fig, axes = plt.subplots(1, 2, figsize=(14, 5))\n",
    "\n",
    "axes[0].bar(train_counts.keys(), train_counts.values(), color=\"steelblue\")\n",
    "axes[0].set_title(\"Liczność klas - Zbiór treningowy\")\n",
    "axes[0].set_xlabel(\"ID klasy\")\n",
    "axes[0].set_ylabel(\"Liczba próbek\")\n",
    "\n",
    "axes[1].bar(test_counts.keys(), test_counts.values(), color=\"darkorange\")\n",
    "axes[1].set_title(\"Liczność klas - Zbiór testowy\")\n",
    "axes[1].set_xlabel(\"ID klasy\")\n",
    "axes[1].set_ylabel(\"Liczba próbek\")\n",
    "\n",
    "plt.tight_layout()\n",
    "plt.show()\n",
    "\n",
    "# Wyświetlenie tabeli klas i ID (do czytania)\n",
    "import pandas as pd\n",
    "label_df = pd.DataFrame({\n",
    "    \"ID klasy\": list(label_to_index.values()),\n",
    "    \"Nazwa klasy\": list(label_to_index.keys())\n",
    "}).sort_values(\"ID klasy\")\n",
    "display(label_df)"
   ]
  },
  {
   "cell_type": "markdown",
   "id": "87f44060-690a-4021-a529-8d8416d56a45",
   "metadata": {},
   "source": [
    "# Wczytanie najlepszego parametru C z Optuna"
   ]
  },
  {
   "cell_type": "code",
   "execution_count": 10,
   "id": "79baf6fd-b434-43f4-9e91-4073fff9ce1d",
   "metadata": {
    "tags": []
   },
   "outputs": [
    {
     "name": "stdout",
     "output_type": "stream",
     "text": [
      "Najlepsze C z Optuny: 175.28676604484232\n"
     ]
    }
   ],
   "source": [
    "study = optuna.load_study(study_name=study_name, storage=storage_url)\n",
    "best_C = study.best_trial.params['C']\n",
    "print(f\"Najlepsze C z Optuny: {best_C}\")"
   ]
  },
  {
   "cell_type": "markdown",
   "id": "1dc8d86b-f660-49b5-8f32-5c1cff3e411c",
   "metadata": {},
   "source": [
    "# Trenowanie modelu SVM w pipeline"
   ]
  },
  {
   "cell_type": "code",
   "execution_count": 18,
   "id": "faefd010-511e-48a6-8e25-891c7f965afe",
   "metadata": {},
   "outputs": [],
   "source": [
    "model = Pipeline([\n",
    "    (\"scaler\", StandardScaler()),\n",
    "    (\"svm\", SVC(C=best_C, kernel=\"linear\", gamma=\"scale\", probability=False))\n",
    "])\n",
    "\n",
    "# Trening i pomiar czasu\n",
    "start_time = time.time()\n",
    "model.fit(X_train, y_train_enc)\n",
    "training_time = time.time() - start_time"
   ]
  },
  {
   "cell_type": "markdown",
   "id": "ec5a34a3-7b83-4d10-ba63-a41dd71d73f4",
   "metadata": {},
   "source": [
    "# Ewaluacja modelu SVM"
   ]
  },
  {
   "cell_type": "code",
   "execution_count": 19,
   "id": "5748bfa2-3c1e-489d-a3d0-bedf3265f892",
   "metadata": {},
   "outputs": [
    {
     "name": "stdout",
     "output_type": "stream",
     "text": [
      "\n",
      "--- Ewaluacja modelu SVM ---\n",
      "Czas treningu: 606.71 sekundy\n",
      "Liczba support vectors: 23641\n",
      "Rozmiar modelu: 20429.73 KB\n",
      "Accuracy: 0.8479\n",
      "Precision (weighted): 0.8486\n",
      "Recall (weighted): 0.8479\n",
      "F1-score (weighted): 0.8477\n",
      "\n",
      "Pełny raport klasyfikacji:\n",
      "                                               precision    recall  f1-score   support\n",
      "\n",
      "                           Apple___Apple_scab       0.68      0.84      0.75       400\n",
      "                            Apple___Black_rot       0.89      0.90      0.89       400\n",
      "                     Apple___Cedar_apple_rust       0.77      0.85      0.81       400\n",
      "                              Apple___healthy       0.83      0.85      0.84       400\n",
      "                    Background_without_leaves       0.94      0.95      0.95       400\n",
      "                          Blueberry___healthy       0.93      0.95      0.94       400\n",
      "                      Cherry___Powdery_mildew       0.78      0.72      0.75       400\n",
      "                             Cherry___healthy       0.93      0.96      0.94       400\n",
      "   Corn___Cercospora_leaf_spot Gray_leaf_spot       0.75      0.78      0.76       400\n",
      "                           Corn___Common_rust       0.98      0.99      0.99       400\n",
      "                  Corn___Northern_Leaf_Blight       0.81      0.81      0.81       400\n",
      "                               Corn___healthy       1.00      1.00      1.00       400\n",
      "                            Grape___Black_rot       0.66      0.74      0.70       400\n",
      "                 Grape___Esca_(Black_Measles)       0.84      0.81      0.83       400\n",
      "   Grape___Leaf_blight_(Isariopsis_Leaf_Spot)       0.88      0.88      0.88       400\n",
      "                              Grape___healthy       0.89      0.94      0.91       400\n",
      "     Orange___Haunglongbing_(Citrus_greening)       0.87      0.84      0.86       400\n",
      "                       Peach___Bacterial_spot       0.74      0.71      0.73       400\n",
      "                              Peach___healthy       0.94      0.95      0.95       400\n",
      "                Pepper,_bell___Bacterial_spot       0.78      0.78      0.78       400\n",
      "                       Pepper,_bell___healthy       0.83      0.82      0.82       400\n",
      "                        Potato___Early_blight       0.91      0.91      0.91       400\n",
      "                         Potato___Late_blight       0.78      0.73      0.76       400\n",
      "                             Potato___healthy       0.92      0.92      0.92       400\n",
      "                          Raspberry___healthy       0.92      0.86      0.89       400\n",
      "                            Soybean___healthy       0.92      0.89      0.90       400\n",
      "                      Squash___Powdery_mildew       0.90      0.89      0.89       400\n",
      "                     Strawberry___Leaf_scorch       0.95      0.92      0.93       400\n",
      "                         Strawberry___healthy       0.92      0.94      0.93       400\n",
      "                      Tomato___Bacterial_spot       0.78      0.81      0.80       400\n",
      "                        Tomato___Early_blight       0.69      0.65      0.67       400\n",
      "                         Tomato___Late_blight       0.72      0.62      0.66       400\n",
      "                           Tomato___Leaf_Mold       0.88      0.84      0.86       400\n",
      "                  Tomato___Septoria_leaf_spot       0.74      0.70      0.72       400\n",
      "Tomato___Spider_mites Two-spotted_spider_mite       0.83      0.84      0.84       400\n",
      "                         Tomato___Target_Spot       0.86      0.83      0.84       400\n",
      "       Tomato___Tomato_Yellow_Leaf_Curl_Virus       0.73      0.70      0.71       400\n",
      "                 Tomato___Tomato_mosaic_virus       0.95      0.95      0.95       400\n",
      "                             Tomato___healthy       0.98      0.98      0.98       400\n",
      "\n",
      "                                     accuracy                           0.85     15600\n",
      "                                    macro avg       0.85      0.85      0.85     15600\n",
      "                                 weighted avg       0.85      0.85      0.85     15600\n",
      "\n"
     ]
    },
    {
     "data": {
      "text/html": [
       "<div>\n",
       "<style scoped>\n",
       "    .dataframe tbody tr th:only-of-type {\n",
       "        vertical-align: middle;\n",
       "    }\n",
       "\n",
       "    .dataframe tbody tr th {\n",
       "        vertical-align: top;\n",
       "    }\n",
       "\n",
       "    .dataframe thead th {\n",
       "        text-align: right;\n",
       "    }\n",
       "</style>\n",
       "<table border=\"1\" class=\"dataframe\">\n",
       "  <thead>\n",
       "    <tr style=\"text-align: right;\">\n",
       "      <th></th>\n",
       "      <th>Model</th>\n",
       "      <th>C</th>\n",
       "      <th>Training time [s]</th>\n",
       "      <th>Accuracy</th>\n",
       "      <th>Precision</th>\n",
       "      <th>Recall</th>\n",
       "      <th>F1-score</th>\n",
       "      <th>Support Vectors</th>\n",
       "      <th>Model Size [KB]</th>\n",
       "    </tr>\n",
       "  </thead>\n",
       "  <tbody>\n",
       "    <tr>\n",
       "      <th>0</th>\n",
       "      <td>SVM (linear)</td>\n",
       "      <td>175.286766</td>\n",
       "      <td>606.70524</td>\n",
       "      <td>0.847949</td>\n",
       "      <td>0.848637</td>\n",
       "      <td>0.847949</td>\n",
       "      <td>0.847684</td>\n",
       "      <td>23641</td>\n",
       "      <td>20429.731445</td>\n",
       "    </tr>\n",
       "  </tbody>\n",
       "</table>\n",
       "</div>"
      ],
      "text/plain": [
       "          Model           C  Training time [s]  Accuracy  Precision    Recall  \\\n",
       "0  SVM (linear)  175.286766          606.70524  0.847949   0.848637  0.847949   \n",
       "\n",
       "   F1-score  Support Vectors  Model Size [KB]  \n",
       "0  0.847684            23641     20429.731445  "
      ]
     },
     "metadata": {},
     "output_type": "display_data"
    }
   ],
   "source": [
    "# Predykcja na danych testowych\n",
    "y_pred = model.predict(X_test)\n",
    "\n",
    "# Ewaluacja klasyczna\n",
    "accuracy = accuracy_score(y_test_enc, y_pred)\n",
    "precision = precision_score(y_test_enc, y_pred, average='weighted')\n",
    "recall = recall_score(y_test_enc, y_pred, average='weighted')\n",
    "f1 = f1_score(y_test_enc, y_pred, average='weighted')\n",
    "report = classification_report(y_test_enc, y_pred, target_names=label_encoder.classes_)\n",
    "\n",
    "# Liczba support vectors (w SVMie to istotne jako pośredni wskaźnik złożoności)\n",
    "svm_model = model.named_steps[\"svm\"]\n",
    "n_support_vectors = sum(svm_model.n_support_)\n",
    "\n",
    "# Rozmiar modelu po zapisaniu\n",
    "model_path = \"/home/studio-lab-user/sagemaker-studiolab-notebooks/ThesisProject/models/svm_model_v2.joblib\"\n",
    "os.makedirs(os.path.dirname(model_path), exist_ok=True)\n",
    "joblib.dump(model, model_path)\n",
    "model_size_kb = os.path.getsize(model_path) / 1024\n",
    "\n",
    "# Wyświetlenie klasyfikacji\n",
    "print(f\"\\n--- Ewaluacja modelu SVM ---\")\n",
    "print(f\"Czas treningu: {training_time:.2f} sekundy\")\n",
    "print(f\"Liczba support vectors: {n_support_vectors}\")\n",
    "print(f\"Rozmiar modelu: {model_size_kb:.2f} KB\")\n",
    "print(f\"Accuracy: {accuracy:.4f}\")\n",
    "print(f\"Precision (weighted): {precision:.4f}\")\n",
    "print(f\"Recall (weighted): {recall:.4f}\")\n",
    "print(f\"F1-score (weighted): {f1:.4f}\")\n",
    "print(\"\\nPełny raport klasyfikacji:\")\n",
    "print(report)\n",
    "\n",
    "# Tabela porównawcza metryk – do eksportu lub dalszego zestawienia\n",
    "metrics_df = pd.DataFrame({\n",
    "    \"Model\": [\"SVM (linear)\"],\n",
    "    \"C\": [svm_model.C],\n",
    "    \"Training time [s]\": [training_time],\n",
    "    \"Accuracy\": [accuracy],\n",
    "    \"Precision\": [precision],\n",
    "    \"Recall\": [recall],\n",
    "    \"F1-score\": [f1],\n",
    "    \"Support Vectors\": [n_support_vectors],\n",
    "    \"Model Size [KB]\": [model_size_kb]\n",
    "})\n",
    "\n",
    "display(metrics_df)"
   ]
  },
  {
   "cell_type": "markdown",
   "id": "08fa39ce-b451-427e-8f3f-7cde14beab57",
   "metadata": {},
   "source": [
    "# Zapis wyników"
   ]
  },
  {
   "cell_type": "code",
   "execution_count": 20,
   "id": "ecb7a279-2b48-47eb-97bb-b3995571e6aa",
   "metadata": {
    "tags": []
   },
   "outputs": [
    {
     "ename": "OSError",
     "evalue": "Cannot save file into a non-existent directory: 'sagemaker-studiolab-notebooks/ThesisProject/reports/Results'",
     "output_type": "error",
     "traceback": [
      "\u001b[31m---------------------------------------------------------------------------\u001b[39m",
      "\u001b[31mOSError\u001b[39m                                   Traceback (most recent call last)",
      "\u001b[36mCell\u001b[39m\u001b[36m \u001b[39m\u001b[32mIn[20]\u001b[39m\u001b[32m, line 1\u001b[39m\n\u001b[32m----> \u001b[39m\u001b[32m1\u001b[39m \u001b[43mmetrics_df\u001b[49m\u001b[43m.\u001b[49m\u001b[43mto_csv\u001b[49m\u001b[43m(\u001b[49m\u001b[33;43m\"\u001b[39;49m\u001b[33;43msagemaker-studiolab-notebooks/ThesisProject/reports/Results/svm_results.csv\u001b[39;49m\u001b[33;43m\"\u001b[39;49m\u001b[43m,\u001b[49m\u001b[43m \u001b[49m\u001b[43mindex\u001b[49m\u001b[43m=\u001b[49m\u001b[38;5;28;43;01mFalse\u001b[39;49;00m\u001b[43m)\u001b[49m\n",
      "\u001b[36mFile \u001b[39m\u001b[32m~/.conda/envs/plantenv/lib/python3.11/site-packages/pandas/util/_decorators.py:333\u001b[39m, in \u001b[36mdeprecate_nonkeyword_arguments.<locals>.decorate.<locals>.wrapper\u001b[39m\u001b[34m(*args, **kwargs)\u001b[39m\n\u001b[32m    327\u001b[39m \u001b[38;5;28;01mif\u001b[39;00m \u001b[38;5;28mlen\u001b[39m(args) > num_allow_args:\n\u001b[32m    328\u001b[39m     warnings.warn(\n\u001b[32m    329\u001b[39m         msg.format(arguments=_format_argument_list(allow_args)),\n\u001b[32m    330\u001b[39m         \u001b[38;5;167;01mFutureWarning\u001b[39;00m,\n\u001b[32m    331\u001b[39m         stacklevel=find_stack_level(),\n\u001b[32m    332\u001b[39m     )\n\u001b[32m--> \u001b[39m\u001b[32m333\u001b[39m \u001b[38;5;28;01mreturn\u001b[39;00m \u001b[43mfunc\u001b[49m\u001b[43m(\u001b[49m\u001b[43m*\u001b[49m\u001b[43margs\u001b[49m\u001b[43m,\u001b[49m\u001b[43m \u001b[49m\u001b[43m*\u001b[49m\u001b[43m*\u001b[49m\u001b[43mkwargs\u001b[49m\u001b[43m)\u001b[49m\n",
      "\u001b[36mFile \u001b[39m\u001b[32m~/.conda/envs/plantenv/lib/python3.11/site-packages/pandas/core/generic.py:3967\u001b[39m, in \u001b[36mNDFrame.to_csv\u001b[39m\u001b[34m(self, path_or_buf, sep, na_rep, float_format, columns, header, index, index_label, mode, encoding, compression, quoting, quotechar, lineterminator, chunksize, date_format, doublequote, escapechar, decimal, errors, storage_options)\u001b[39m\n\u001b[32m   3956\u001b[39m df = \u001b[38;5;28mself\u001b[39m \u001b[38;5;28;01mif\u001b[39;00m \u001b[38;5;28misinstance\u001b[39m(\u001b[38;5;28mself\u001b[39m, ABCDataFrame) \u001b[38;5;28;01melse\u001b[39;00m \u001b[38;5;28mself\u001b[39m.to_frame()\n\u001b[32m   3958\u001b[39m formatter = DataFrameFormatter(\n\u001b[32m   3959\u001b[39m     frame=df,\n\u001b[32m   3960\u001b[39m     header=header,\n\u001b[32m   (...)\u001b[39m\u001b[32m   3964\u001b[39m     decimal=decimal,\n\u001b[32m   3965\u001b[39m )\n\u001b[32m-> \u001b[39m\u001b[32m3967\u001b[39m \u001b[38;5;28;01mreturn\u001b[39;00m \u001b[43mDataFrameRenderer\u001b[49m\u001b[43m(\u001b[49m\u001b[43mformatter\u001b[49m\u001b[43m)\u001b[49m\u001b[43m.\u001b[49m\u001b[43mto_csv\u001b[49m\u001b[43m(\u001b[49m\n\u001b[32m   3968\u001b[39m \u001b[43m    \u001b[49m\u001b[43mpath_or_buf\u001b[49m\u001b[43m,\u001b[49m\n\u001b[32m   3969\u001b[39m \u001b[43m    \u001b[49m\u001b[43mlineterminator\u001b[49m\u001b[43m=\u001b[49m\u001b[43mlineterminator\u001b[49m\u001b[43m,\u001b[49m\n\u001b[32m   3970\u001b[39m \u001b[43m    \u001b[49m\u001b[43msep\u001b[49m\u001b[43m=\u001b[49m\u001b[43msep\u001b[49m\u001b[43m,\u001b[49m\n\u001b[32m   3971\u001b[39m \u001b[43m    \u001b[49m\u001b[43mencoding\u001b[49m\u001b[43m=\u001b[49m\u001b[43mencoding\u001b[49m\u001b[43m,\u001b[49m\n\u001b[32m   3972\u001b[39m \u001b[43m    \u001b[49m\u001b[43merrors\u001b[49m\u001b[43m=\u001b[49m\u001b[43merrors\u001b[49m\u001b[43m,\u001b[49m\n\u001b[32m   3973\u001b[39m \u001b[43m    \u001b[49m\u001b[43mcompression\u001b[49m\u001b[43m=\u001b[49m\u001b[43mcompression\u001b[49m\u001b[43m,\u001b[49m\n\u001b[32m   3974\u001b[39m \u001b[43m    \u001b[49m\u001b[43mquoting\u001b[49m\u001b[43m=\u001b[49m\u001b[43mquoting\u001b[49m\u001b[43m,\u001b[49m\n\u001b[32m   3975\u001b[39m \u001b[43m    \u001b[49m\u001b[43mcolumns\u001b[49m\u001b[43m=\u001b[49m\u001b[43mcolumns\u001b[49m\u001b[43m,\u001b[49m\n\u001b[32m   3976\u001b[39m \u001b[43m    \u001b[49m\u001b[43mindex_label\u001b[49m\u001b[43m=\u001b[49m\u001b[43mindex_label\u001b[49m\u001b[43m,\u001b[49m\n\u001b[32m   3977\u001b[39m \u001b[43m    \u001b[49m\u001b[43mmode\u001b[49m\u001b[43m=\u001b[49m\u001b[43mmode\u001b[49m\u001b[43m,\u001b[49m\n\u001b[32m   3978\u001b[39m \u001b[43m    \u001b[49m\u001b[43mchunksize\u001b[49m\u001b[43m=\u001b[49m\u001b[43mchunksize\u001b[49m\u001b[43m,\u001b[49m\n\u001b[32m   3979\u001b[39m \u001b[43m    \u001b[49m\u001b[43mquotechar\u001b[49m\u001b[43m=\u001b[49m\u001b[43mquotechar\u001b[49m\u001b[43m,\u001b[49m\n\u001b[32m   3980\u001b[39m \u001b[43m    \u001b[49m\u001b[43mdate_format\u001b[49m\u001b[43m=\u001b[49m\u001b[43mdate_format\u001b[49m\u001b[43m,\u001b[49m\n\u001b[32m   3981\u001b[39m \u001b[43m    \u001b[49m\u001b[43mdoublequote\u001b[49m\u001b[43m=\u001b[49m\u001b[43mdoublequote\u001b[49m\u001b[43m,\u001b[49m\n\u001b[32m   3982\u001b[39m \u001b[43m    \u001b[49m\u001b[43mescapechar\u001b[49m\u001b[43m=\u001b[49m\u001b[43mescapechar\u001b[49m\u001b[43m,\u001b[49m\n\u001b[32m   3983\u001b[39m \u001b[43m    \u001b[49m\u001b[43mstorage_options\u001b[49m\u001b[43m=\u001b[49m\u001b[43mstorage_options\u001b[49m\u001b[43m,\u001b[49m\n\u001b[32m   3984\u001b[39m \u001b[43m\u001b[49m\u001b[43m)\u001b[49m\n",
      "\u001b[36mFile \u001b[39m\u001b[32m~/.conda/envs/plantenv/lib/python3.11/site-packages/pandas/io/formats/format.py:1014\u001b[39m, in \u001b[36mDataFrameRenderer.to_csv\u001b[39m\u001b[34m(self, path_or_buf, encoding, sep, columns, index_label, mode, compression, quoting, quotechar, lineterminator, chunksize, date_format, doublequote, escapechar, errors, storage_options)\u001b[39m\n\u001b[32m    993\u001b[39m     created_buffer = \u001b[38;5;28;01mFalse\u001b[39;00m\n\u001b[32m    995\u001b[39m csv_formatter = CSVFormatter(\n\u001b[32m    996\u001b[39m     path_or_buf=path_or_buf,\n\u001b[32m    997\u001b[39m     lineterminator=lineterminator,\n\u001b[32m   (...)\u001b[39m\u001b[32m   1012\u001b[39m     formatter=\u001b[38;5;28mself\u001b[39m.fmt,\n\u001b[32m   1013\u001b[39m )\n\u001b[32m-> \u001b[39m\u001b[32m1014\u001b[39m \u001b[43mcsv_formatter\u001b[49m\u001b[43m.\u001b[49m\u001b[43msave\u001b[49m\u001b[43m(\u001b[49m\u001b[43m)\u001b[49m\n\u001b[32m   1016\u001b[39m \u001b[38;5;28;01mif\u001b[39;00m created_buffer:\n\u001b[32m   1017\u001b[39m     \u001b[38;5;28;01massert\u001b[39;00m \u001b[38;5;28misinstance\u001b[39m(path_or_buf, StringIO)\n",
      "\u001b[36mFile \u001b[39m\u001b[32m~/.conda/envs/plantenv/lib/python3.11/site-packages/pandas/io/formats/csvs.py:251\u001b[39m, in \u001b[36mCSVFormatter.save\u001b[39m\u001b[34m(self)\u001b[39m\n\u001b[32m    247\u001b[39m \u001b[38;5;250m\u001b[39m\u001b[33;03m\"\"\"\u001b[39;00m\n\u001b[32m    248\u001b[39m \u001b[33;03mCreate the writer & save.\u001b[39;00m\n\u001b[32m    249\u001b[39m \u001b[33;03m\"\"\"\u001b[39;00m\n\u001b[32m    250\u001b[39m \u001b[38;5;66;03m# apply compression and byte/text conversion\u001b[39;00m\n\u001b[32m--> \u001b[39m\u001b[32m251\u001b[39m \u001b[38;5;28;01mwith\u001b[39;00m \u001b[43mget_handle\u001b[49m\u001b[43m(\u001b[49m\n\u001b[32m    252\u001b[39m \u001b[43m    \u001b[49m\u001b[38;5;28;43mself\u001b[39;49m\u001b[43m.\u001b[49m\u001b[43mfilepath_or_buffer\u001b[49m\u001b[43m,\u001b[49m\n\u001b[32m    253\u001b[39m \u001b[43m    \u001b[49m\u001b[38;5;28;43mself\u001b[39;49m\u001b[43m.\u001b[49m\u001b[43mmode\u001b[49m\u001b[43m,\u001b[49m\n\u001b[32m    254\u001b[39m \u001b[43m    \u001b[49m\u001b[43mencoding\u001b[49m\u001b[43m=\u001b[49m\u001b[38;5;28;43mself\u001b[39;49m\u001b[43m.\u001b[49m\u001b[43mencoding\u001b[49m\u001b[43m,\u001b[49m\n\u001b[32m    255\u001b[39m \u001b[43m    \u001b[49m\u001b[43merrors\u001b[49m\u001b[43m=\u001b[49m\u001b[38;5;28;43mself\u001b[39;49m\u001b[43m.\u001b[49m\u001b[43merrors\u001b[49m\u001b[43m,\u001b[49m\n\u001b[32m    256\u001b[39m \u001b[43m    \u001b[49m\u001b[43mcompression\u001b[49m\u001b[43m=\u001b[49m\u001b[38;5;28;43mself\u001b[39;49m\u001b[43m.\u001b[49m\u001b[43mcompression\u001b[49m\u001b[43m,\u001b[49m\n\u001b[32m    257\u001b[39m \u001b[43m    \u001b[49m\u001b[43mstorage_options\u001b[49m\u001b[43m=\u001b[49m\u001b[38;5;28;43mself\u001b[39;49m\u001b[43m.\u001b[49m\u001b[43mstorage_options\u001b[49m\u001b[43m,\u001b[49m\n\u001b[32m    258\u001b[39m \u001b[43m\u001b[49m\u001b[43m)\u001b[49m \u001b[38;5;28;01mas\u001b[39;00m handles:\n\u001b[32m    259\u001b[39m     \u001b[38;5;66;03m# Note: self.encoding is irrelevant here\u001b[39;00m\n\u001b[32m    260\u001b[39m     \u001b[38;5;28mself\u001b[39m.writer = csvlib.writer(\n\u001b[32m    261\u001b[39m         handles.handle,\n\u001b[32m    262\u001b[39m         lineterminator=\u001b[38;5;28mself\u001b[39m.lineterminator,\n\u001b[32m   (...)\u001b[39m\u001b[32m    267\u001b[39m         quotechar=\u001b[38;5;28mself\u001b[39m.quotechar,\n\u001b[32m    268\u001b[39m     )\n\u001b[32m    270\u001b[39m     \u001b[38;5;28mself\u001b[39m._save()\n",
      "\u001b[36mFile \u001b[39m\u001b[32m~/.conda/envs/plantenv/lib/python3.11/site-packages/pandas/io/common.py:749\u001b[39m, in \u001b[36mget_handle\u001b[39m\u001b[34m(path_or_buf, mode, encoding, compression, memory_map, is_text, errors, storage_options)\u001b[39m\n\u001b[32m    747\u001b[39m \u001b[38;5;66;03m# Only for write methods\u001b[39;00m\n\u001b[32m    748\u001b[39m \u001b[38;5;28;01mif\u001b[39;00m \u001b[33m\"\u001b[39m\u001b[33mr\u001b[39m\u001b[33m\"\u001b[39m \u001b[38;5;129;01mnot\u001b[39;00m \u001b[38;5;129;01min\u001b[39;00m mode \u001b[38;5;129;01mand\u001b[39;00m is_path:\n\u001b[32m--> \u001b[39m\u001b[32m749\u001b[39m     \u001b[43mcheck_parent_directory\u001b[49m\u001b[43m(\u001b[49m\u001b[38;5;28;43mstr\u001b[39;49m\u001b[43m(\u001b[49m\u001b[43mhandle\u001b[49m\u001b[43m)\u001b[49m\u001b[43m)\u001b[49m\n\u001b[32m    751\u001b[39m \u001b[38;5;28;01mif\u001b[39;00m compression:\n\u001b[32m    752\u001b[39m     \u001b[38;5;28;01mif\u001b[39;00m compression != \u001b[33m\"\u001b[39m\u001b[33mzstd\u001b[39m\u001b[33m\"\u001b[39m:\n\u001b[32m    753\u001b[39m         \u001b[38;5;66;03m# compression libraries do not like an explicit text-mode\u001b[39;00m\n",
      "\u001b[36mFile \u001b[39m\u001b[32m~/.conda/envs/plantenv/lib/python3.11/site-packages/pandas/io/common.py:616\u001b[39m, in \u001b[36mcheck_parent_directory\u001b[39m\u001b[34m(path)\u001b[39m\n\u001b[32m    614\u001b[39m parent = Path(path).parent\n\u001b[32m    615\u001b[39m \u001b[38;5;28;01mif\u001b[39;00m \u001b[38;5;129;01mnot\u001b[39;00m parent.is_dir():\n\u001b[32m--> \u001b[39m\u001b[32m616\u001b[39m     \u001b[38;5;28;01mraise\u001b[39;00m \u001b[38;5;167;01mOSError\u001b[39;00m(\u001b[33mrf\u001b[39m\u001b[33m\"\u001b[39m\u001b[33mCannot save file into a non-existent directory: \u001b[39m\u001b[33m'\u001b[39m\u001b[38;5;132;01m{\u001b[39;00mparent\u001b[38;5;132;01m}\u001b[39;00m\u001b[33m'\u001b[39m\u001b[33m\"\u001b[39m)\n",
      "\u001b[31mOSError\u001b[39m: Cannot save file into a non-existent directory: 'sagemaker-studiolab-notebooks/ThesisProject/reports/Results'"
     ]
    }
   ],
   "source": [
    "metrics_df.to_csv(\"/home/studio-lab-user/sagemaker-studiolab-notebooks/ThesisProject/reports/Results/svm_results.csv\", index=False)"
   ]
  }
 ],
 "metadata": {
  "kernelspec": {
   "display_name": ".conda-plantenv:Python",
   "language": "python",
   "name": "conda-env-.conda-plantenv-py"
  },
  "language_info": {
   "codemirror_mode": {
    "name": "ipython",
    "version": 3
   },
   "file_extension": ".py",
   "mimetype": "text/x-python",
   "name": "python",
   "nbconvert_exporter": "python",
   "pygments_lexer": "ipython3",
   "version": "3.11.11"
  }
 },
 "nbformat": 4,
 "nbformat_minor": 5
}
